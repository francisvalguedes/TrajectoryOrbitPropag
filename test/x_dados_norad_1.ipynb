{
 "cells": [
  {
   "cell_type": "code",
   "execution_count": 1,
   "metadata": {},
   "outputs": [],
   "source": [
    "import pandas as pd"
   ]
  },
  {
   "cell_type": "code",
   "execution_count": 4,
   "metadata": {},
   "outputs": [
    {
     "data": {
      "text/html": [
       "<div>\n",
       "<style scoped>\n",
       "    .dataframe tbody tr th:only-of-type {\n",
       "        vertical-align: middle;\n",
       "    }\n",
       "\n",
       "    .dataframe tbody tr th {\n",
       "        vertical-align: top;\n",
       "    }\n",
       "\n",
       "    .dataframe thead th {\n",
       "        text-align: right;\n",
       "    }\n",
       "</style>\n",
       "<table border=\"1\" class=\"dataframe\">\n",
       "  <thead>\n",
       "    <tr style=\"text-align: right;\">\n",
       "      <th></th>\n",
       "      <th>NORAD_CAT_ID</th>\n",
       "      <th>RCS</th>\n",
       "    </tr>\n",
       "  </thead>\n",
       "  <tbody>\n",
       "    <tr>\n",
       "      <th>0</th>\n",
       "      <td>47</td>\n",
       "      <td>2.9661</td>\n",
       "    </tr>\n",
       "    <tr>\n",
       "      <th>1</th>\n",
       "      <td>58</td>\n",
       "      <td>1.2843</td>\n",
       "    </tr>\n",
       "    <tr>\n",
       "      <th>2</th>\n",
       "      <td>59</td>\n",
       "      <td>3.4517</td>\n",
       "    </tr>\n",
       "    <tr>\n",
       "      <th>3</th>\n",
       "      <td>118</td>\n",
       "      <td>1.6476</td>\n",
       "    </tr>\n",
       "    <tr>\n",
       "      <th>4</th>\n",
       "      <td>134</td>\n",
       "      <td>1.5570</td>\n",
       "    </tr>\n",
       "  </tbody>\n",
       "</table>\n",
       "</div>"
      ],
      "text/plain": [
       "   NORAD_CAT_ID     RCS\n",
       "0            47  2.9661\n",
       "1            58  1.2843\n",
       "2            59  3.4517\n",
       "3           118  1.6476\n",
       "4           134  1.5570"
      ]
     },
     "execution_count": 4,
     "metadata": {},
     "output_type": "execute_result"
    }
   ],
   "source": [
    "rcs1 = pd.read_csv(\"RCS.csv\")\n",
    "rcs1.head()"
   ]
  },
  {
   "cell_type": "code",
   "execution_count": 2,
   "metadata": {},
   "outputs": [],
   "source": [
    "import json\n",
    "\n",
    "try:\n",
    "    with open('confElem.json', 'r') as fp:\n",
    "        tlevec_json = json.load(fp)\n",
    "    confElements = 'json'\n",
    "except OSError as e:\n",
    "    print(f\"Error:{e.strerror}\"+\" ao ler o arquivo confElem.json\")\n",
    "    try:\n",
    "        tle = T32leFileRead('conftle.txt')\n",
    "        confElements = 'tle'\n",
    "    except OSError as e:\n",
    "        print(f\"Error:{e.strerror}\"+\"ao ler o arquivo conftle.txt\")"
   ]
  },
  {
   "cell_type": "code",
   "execution_count": 4,
   "metadata": {},
   "outputs": [
    {
     "name": "stdout",
     "output_type": "stream",
     "text": [
      "<class 'list'>\n"
     ]
    }
   ],
   "source": [
    "print(type(tlevec_json) )"
   ]
  },
  {
   "cell_type": "code",
   "execution_count": 8,
   "metadata": {},
   "outputs": [
    {
     "name": "stdout",
     "output_type": "stream",
     "text": [
      "<class 'dict'>\n"
     ]
    }
   ],
   "source": [
    "print(type(tlevec_json[0]))"
   ]
  },
  {
   "cell_type": "code",
   "execution_count": 10,
   "metadata": {},
   "outputs": [
    {
     "name": "stdout",
     "output_type": "stream",
     "text": [
      "{'CCSDS_OMM_VERS': '2.0', 'COMMENT': 'GENERATED VIA SPACE-TRACK.ORG API', 'CREATION_DATE': '2022-07-31T03:06:08', 'ORIGINATOR': '18 SPCS', 'OBJECT_NAME': 'TITAN 3C TRANSTAGE R/B', 'OBJECT_ID': '1965-108A', 'CENTER_NAME': 'EARTH', 'REF_FRAME': 'TEME', 'TIME_SYSTEM': 'UTC', 'MEAN_ELEMENT_THEORY': 'SGP4', 'EPOCH': '2022-07-30T07:21:15.435360', 'MEAN_MOTION': '3.86861601', 'ECCENTRICITY': '0.60784240', 'INCLINATION': '26.7079', 'RA_OF_ASC_NODE': '164.0781', 'ARG_OF_PERICENTER': '206.6270', 'MEAN_ANOMALY': '101.7451', 'EPHEMERIS_TYPE': '0', 'CLASSIFICATION_TYPE': 'U', 'NORAD_CAT_ID': '1863', 'ELEMENT_SET_NO': '999', 'REV_AT_EPOCH': '31260', 'BSTAR': '0.00043624000000', 'MEAN_MOTION_DOT': '0.00000594', 'MEAN_MOTION_DDOT': '0.0000000000000', 'SEMIMAJOR_AXIS': '17140.813', 'PERIOD': '372.226', 'APOAPSIS': '21181.591', 'PERIAPSIS': '343.765', 'OBJECT_TYPE': 'ROCKET BODY', 'RCS_SIZE': 'LARGE', 'COUNTRY_CODE': 'US', 'LAUNCH_DATE': '1965-12-21', 'SITE': 'AFETR', 'DECAY_DATE': None, 'FILE': '3525638', 'GP_ID': '209205440', 'TLE_LINE0': '0 TITAN 3C TRANSTAGE R/B', 'TLE_LINE1': '1 01863U 65108A   22211.30642865  .00000594  00000-0  43624-3 0  9990', 'TLE_LINE2': '2 01863  26.7079 164.0781 6078424 206.6270 101.7451  3.86861601312602'}\n"
     ]
    }
   ],
   "source": [
    "print(tlevec_json[0])"
   ]
  },
  {
   "cell_type": "code",
   "execution_count": 1,
   "metadata": {},
   "outputs": [],
   "source": [
    "from spacetrack import SpaceTrackClient\n",
    "import pandas as pd\n",
    "#from StringIO import StringIO\n",
    "from io import StringIO\n",
    "# ----------------------------------------------------------------------\n",
    "# Atualiza a ultima versão dos elementos orbitais no site do Space-Track\n",
    "# ----------------------------------------------------------------------\n",
    "loguin = \"francisval20@yahoo.com.br\"\n",
    "password = \"4mQivHD4CU934ZV\"\n",
    "norad_ids = [1328,7646,22698,22824,25991,27386,43477]\n",
    "st = SpaceTrackClient(identity=loguin, password=password)\n",
    "tlevec_csv = st.gp(norad_cat_id=norad_ids, orderby='norad_cat_id', format='csv')\n",
    "df = pd.read_csv(StringIO(tlevec_csv), sep=\",\")"
   ]
  },
  {
   "cell_type": "code",
   "execution_count": 8,
   "metadata": {},
   "outputs": [],
   "source": [
    "# df_dict = df.to_dict('dict')\n",
    "\n",
    "df_dict = df.to_dict('records')"
   ]
  },
  {
   "cell_type": "code",
   "execution_count": 9,
   "metadata": {},
   "outputs": [
    {
     "data": {
      "text/plain": [
       "'2 01328  41.1856 300.8465 0256595 158.9472 202.2068 13.38685079799000'"
      ]
     },
     "execution_count": 9,
     "metadata": {},
     "output_type": "execute_result"
    }
   ],
   "source": [
    "df_dict[0][\"TLE_LINE2\"]"
   ]
  },
  {
   "cell_type": "code",
   "execution_count": 13,
   "metadata": {},
   "outputs": [],
   "source": [
    "df_dict = df.to_dict('list')\n"
   ]
  },
  {
   "cell_type": "code",
   "execution_count": 16,
   "metadata": {},
   "outputs": [
    {
     "data": {
      "text/plain": [
       "[1328, 7646, 22698, 22824, 25991, 27386, 43477]"
      ]
     },
     "execution_count": 16,
     "metadata": {},
     "output_type": "execute_result"
    }
   ],
   "source": [
    "df_dict[\"NORAD_CAT_ID\"]"
   ]
  },
  {
   "cell_type": "code",
   "execution_count": 53,
   "metadata": {},
   "outputs": [
    {
     "data": {
      "text/plain": [
       "dict"
      ]
     },
     "execution_count": 53,
     "metadata": {},
     "output_type": "execute_result"
    }
   ],
   "source": [
    "type(df_dict[0])"
   ]
  },
  {
   "cell_type": "code",
   "execution_count": 48,
   "metadata": {},
   "outputs": [],
   "source": [
    "import json\n",
    "\n",
    "try:\n",
    "    with open('confElem.json', 'r') as fp:\n",
    "        tlevec_json = json.load(fp)\n",
    "    confElements = 'json'\n",
    "except OSError as e:\n",
    "    print(f\"Error:{e.strerror}\"+\" ao ler o arquivo confElem.json\")\n",
    "    try:\n",
    "        tle = T32leFileRead('conftle.txt')\n",
    "        confElements = 'tle'\n",
    "    except OSError as e:\n",
    "        print(f\"Error:{e.strerror}\"+\"ao ler o arquivo conftle.txt\")"
   ]
  },
  {
   "cell_type": "code",
   "execution_count": 49,
   "metadata": {},
   "outputs": [
    {
     "data": {
      "text/plain": [
       "'2 01863  26.7079 164.0781 6078424 206.6270 101.7451  3.86861601312602'"
      ]
     },
     "execution_count": 49,
     "metadata": {},
     "output_type": "execute_result"
    }
   ],
   "source": [
    "tlevec_json[0][\"TLE_LINE2\"]"
   ]
  },
  {
   "cell_type": "code",
   "execution_count": 52,
   "metadata": {},
   "outputs": [
    {
     "data": {
      "text/plain": [
       "dict"
      ]
     },
     "execution_count": 52,
     "metadata": {},
     "output_type": "execute_result"
    }
   ],
   "source": [
    "type(tlevec_json[0])"
   ]
  }
 ],
 "metadata": {
  "kernelspec": {
   "display_name": "Python 3.10.4 ('orbit2prop')",
   "language": "python",
   "name": "python3"
  },
  "language_info": {
   "codemirror_mode": {
    "name": "ipython",
    "version": 3
   },
   "file_extension": ".py",
   "mimetype": "text/x-python",
   "name": "python",
   "nbconvert_exporter": "python",
   "pygments_lexer": "ipython3",
   "version": "3.10.4"
  },
  "orig_nbformat": 4,
  "vscode": {
   "interpreter": {
    "hash": "75a7af300593d40e5d074f5f77fc2893c8f5e02fd067d75ecfc4bf17b094a659"
   }
  }
 },
 "nbformat": 4,
 "nbformat_minor": 2
}
