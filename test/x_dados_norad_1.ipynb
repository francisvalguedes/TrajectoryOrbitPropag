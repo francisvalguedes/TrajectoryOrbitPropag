{
 "cells": [
  {
   "cell_type": "code",
   "execution_count": 13,
   "metadata": {},
   "outputs": [
    {
     "data": {
      "text/plain": [
       "'2022_08_07_13_00_00_000'"
      ]
     },
     "execution_count": 13,
     "metadata": {},
     "output_type": "execute_result"
    }
   ],
   "source": [
    "from astropy.time import Time\n",
    "\n",
    "Time('2022-08-07T13:00:00.000', format='isot').strftime('%Y_%m_%d_%H_%M_%S_%f')"
   ]
  },
  {
   "cell_type": "code",
   "execution_count": 16,
   "metadata": {},
   "outputs": [
    {
     "data": {
      "text/plain": [
       "'2022_08_07-H0-13_00_00TU'"
      ]
     },
     "execution_count": 16,
     "metadata": {},
     "output_type": "execute_result"
    }
   ],
   "source": [
    "from astropy.time import Time\n",
    "\n",
    "Time('2022-08-07T13:00:00.000', format='isot').strftime('%Y_%m_%d-H0-%H_%M_%STU')"
   ]
  },
  {
   "cell_type": "code",
   "execution_count": 9,
   "metadata": {},
   "outputs": [
    {
     "data": {
      "text/plain": [
       "'2022_08_07_22_46_51_803'"
      ]
     },
     "execution_count": 9,
     "metadata": {},
     "output_type": "execute_result"
    }
   ],
   "source": [
    "import time\n",
    "from datetime import datetime\n",
    "datetime.utcnow().strftime('%Y_%m_%d_%H_%M_%S_%f')[:-3]"
   ]
  },
  {
   "cell_type": "code",
   "execution_count": 8,
   "metadata": {},
   "outputs": [
    {
     "data": {
      "text/plain": [
       "1659912296.9704778"
      ]
     },
     "execution_count": 8,
     "metadata": {},
     "output_type": "execute_result"
    }
   ],
   "source": [
    "ini"
   ]
  },
  {
   "cell_type": "code",
   "execution_count": 15,
   "metadata": {},
   "outputs": [
    {
     "data": {
      "text/plain": [
       "['H0',\n",
       " 'DIST_H0',\n",
       " 'H_DIST_MIN',\n",
       " 'PT_DIST_MIN',\n",
       " 'DIST_MIN',\n",
       " 'HF',\n",
       " 'N_PT',\n",
       " 'DIST_HF',\n",
       " 'RCS',\n",
       " 'CCSDS_OMM_VERS',\n",
       " 'COMMENT',\n",
       " 'CREATION_DATE',\n",
       " 'ORIGINATOR',\n",
       " 'OBJECT_NAME',\n",
       " 'OBJECT_ID',\n",
       " 'CENTER_NAME',\n",
       " 'REF_FRAME',\n",
       " 'TIME_SYSTEM',\n",
       " 'MEAN_ELEMENT_THEORY',\n",
       " 'EPOCH',\n",
       " 'MEAN_MOTION',\n",
       " 'ECCENTRICITY',\n",
       " 'INCLINATION',\n",
       " 'RA_OF_ASC_NODE',\n",
       " 'ARG_OF_PERICENTER',\n",
       " 'MEAN_ANOMALY',\n",
       " 'EPHEMERIS_TYPE',\n",
       " 'CLASSIFICATION_TYPE',\n",
       " 'NORAD_CAT_ID',\n",
       " 'ELEMENT_SET_NO',\n",
       " 'REV_AT_EPOCH',\n",
       " 'BSTAR',\n",
       " 'MEAN_MOTION_DOT',\n",
       " 'MEAN_MOTION_DDOT',\n",
       " 'SEMIMAJOR_AXIS',\n",
       " 'PERIOD',\n",
       " 'APOAPSIS',\n",
       " 'PERIAPSIS',\n",
       " 'OBJECT_TYPE',\n",
       " 'RCS_SIZE',\n",
       " 'COUNTRY_CODE',\n",
       " 'LAUNCH_DATE',\n",
       " 'SITE',\n",
       " 'DECAY_DATE',\n",
       " 'FILE',\n",
       " 'GP_ID',\n",
       " 'TLE_LINE0',\n",
       " 'TLE_LINE1',\n",
       " 'TLE_LINE2']"
      ]
     },
     "execution_count": 15,
     "metadata": {},
     "output_type": "execute_result"
    }
   ],
   "source": [
    "import pandas as pd\n",
    "traj_data = pd.read_csv(\"traj_data.csv\")\n",
    "traj_data.columns.to_list()"
   ]
  },
  {
   "cell_type": "code",
   "execution_count": null,
   "metadata": {},
   "outputs": [],
   "source": [
    "traj_data.head()"
   ]
  },
  {
   "cell_type": "code",
   "execution_count": 11,
   "metadata": {},
   "outputs": [
    {
     "data": {
      "text/plain": [
       "15772"
      ]
     },
     "execution_count": 11,
     "metadata": {},
     "output_type": "execute_result"
    }
   ],
   "source": [
    "traj_data.loc[11]['NORAD_CAT_ID']"
   ]
  },
  {
   "cell_type": "code",
   "execution_count": null,
   "metadata": {},
   "outputs": [],
   "source": [
    "for i in range(len(traj_data.index)):\n",
    "    print(traj_data.loc[i]['NORAD_CAT_ID'])"
   ]
  },
  {
   "cell_type": "code",
   "execution_count": null,
   "metadata": {},
   "outputs": [],
   "source": [
    "for row in traj_data.itertuples():\n",
    "    print(row[29])"
   ]
  },
  {
   "cell_type": "code",
   "execution_count": null,
   "metadata": {},
   "outputs": [],
   "source": [
    "for index, row in traj_data.iterrows():\n",
    "    print(row['NORAD_CAT_ID'])\n",
    "    print(index)"
   ]
  },
  {
   "cell_type": "code",
   "execution_count": 27,
   "metadata": {},
   "outputs": [],
   "source": [
    "usecols = ['NORAD_CAT_ID', 'H0', 'N_PT']\n",
    "df_conf = pd.read_csv(\"traj_data.csv\",usecols=usecols)"
   ]
  },
  {
   "cell_type": "code",
   "execution_count": null,
   "metadata": {},
   "outputs": [],
   "source": [
    "df_conf"
   ]
  },
  {
   "cell_type": "code",
   "execution_count": 32,
   "metadata": {},
   "outputs": [
    {
     "data": {
      "text/plain": [
       "[{'H0': '2022-08-06T12:30:39.000', 'N_PT': 233, 'NORAD_CAT_ID': 2142},\n",
       " {'H0': '2022-08-06T15:02:03.000', 'N_PT': 220, 'NORAD_CAT_ID': 2621},\n",
       " {'H0': '2022-08-06T16:28:31.000', 'N_PT': 251, 'NORAD_CAT_ID': 3598},\n",
       " {'H0': '2022-08-06T11:38:16.000', 'N_PT': 138, 'NORAD_CAT_ID': 10096},\n",
       " {'H0': '2022-08-06T16:54:24.000', 'N_PT': 251, 'NORAD_CAT_ID': 10114},\n",
       " {'H0': '2022-08-06T16:05:04.000', 'N_PT': 191, 'NORAD_CAT_ID': 12155},\n",
       " {'H0': '2022-08-06T11:42:58.000', 'N_PT': 219, 'NORAD_CAT_ID': 13154},\n",
       " {'H0': '2022-08-06T12:17:31.000', 'N_PT': 246, 'NORAD_CAT_ID': 13553},\n",
       " {'H0': '2022-08-06T17:30:54.000', 'N_PT': 247, 'NORAD_CAT_ID': 13771},\n",
       " {'H0': '2022-08-06T13:02:34.000', 'N_PT': 209, 'NORAD_CAT_ID': 14373},\n",
       " {'H0': '2022-08-06T18:12:34.000', 'N_PT': 189, 'NORAD_CAT_ID': 15755},\n",
       " {'H0': '2022-08-06T15:47:50.000', 'N_PT': 203, 'NORAD_CAT_ID': 15772},\n",
       " {'H0': '2022-08-06T15:34:11.000', 'N_PT': 250, 'NORAD_CAT_ID': 16263},\n",
       " {'H0': '2022-08-06T14:54:55.000', 'N_PT': 130, 'NORAD_CAT_ID': 16327},\n",
       " {'H0': '2022-08-06T18:27:14.000', 'N_PT': 127, 'NORAD_CAT_ID': 16528},\n",
       " {'H0': '2022-08-06T12:32:44.000', 'N_PT': 211, 'NORAD_CAT_ID': 16720},\n",
       " {'H0': '2022-08-06T11:00:00.000', 'N_PT': 72, 'NORAD_CAT_ID': 17912},\n",
       " {'H0': '2022-08-06T15:13:30.000', 'N_PT': 228, 'NORAD_CAT_ID': 18215},\n",
       " {'H0': '2022-08-06T14:09:45.000', 'N_PT': 187, 'NORAD_CAT_ID': 18959},\n",
       " {'H0': '2022-08-06T13:15:37.000', 'N_PT': 286, 'NORAD_CAT_ID': 20303},\n",
       " {'H0': '2022-08-06T18:02:23.000', 'N_PT': 258, 'NORAD_CAT_ID': 20580},\n",
       " {'H0': '2022-08-06T11:32:51.000', 'N_PT': 128, 'NORAD_CAT_ID': 21398},\n",
       " {'H0': '2022-08-06T18:09:07.000', 'N_PT': 244, 'NORAD_CAT_ID': 22015},\n",
       " {'H0': '2022-08-06T11:21:57.000', 'N_PT': 242, 'NORAD_CAT_ID': 23343},\n",
       " {'H0': '2022-08-06T11:00:00.000', 'N_PT': 164, 'NORAD_CAT_ID': 24809},\n",
       " {'H0': '2022-08-06T18:28:50.000', 'N_PT': 213, 'NORAD_CAT_ID': 25261},\n",
       " {'H0': '2022-08-06T11:20:08.000', 'N_PT': 213, 'NORAD_CAT_ID': 25544},\n",
       " {'H0': '2022-08-06T11:40:42.000', 'N_PT': 164, 'NORAD_CAT_ID': 25619},\n",
       " {'H0': '2022-08-06T13:56:49.000', 'N_PT': 210, 'NORAD_CAT_ID': 25667},\n",
       " {'H0': '2022-08-06T12:21:00.000', 'N_PT': 265, 'NORAD_CAT_ID': 27371},\n",
       " {'H0': '2022-08-06T11:26:16.000', 'N_PT': 171, 'NORAD_CAT_ID': 27740},\n",
       " {'H0': '2022-08-06T13:47:45.000', 'N_PT': 248, 'NORAD_CAT_ID': 27740},\n",
       " {'H0': '2022-08-06T16:09:58.000', 'N_PT': 172, 'NORAD_CAT_ID': 27740},\n",
       " {'H0': '2022-08-06T16:00:14.000', 'N_PT': 131, 'NORAD_CAT_ID': 27944},\n",
       " {'H0': '2022-08-06T11:48:08.000', 'N_PT': 211, 'NORAD_CAT_ID': 28118},\n",
       " {'H0': '2022-08-06T13:45:38.000', 'N_PT': 177, 'NORAD_CAT_ID': 28118},\n",
       " {'H0': '2022-08-06T15:28:26.000', 'N_PT': 235, 'NORAD_CAT_ID': 28499},\n",
       " {'H0': '2022-08-06T15:29:07.000', 'N_PT': 212, 'NORAD_CAT_ID': 28983},\n",
       " {'H0': '2022-08-06T11:03:59.000', 'N_PT': 232, 'NORAD_CAT_ID': 29517},\n",
       " {'H0': '2022-08-06T12:51:41.000', 'N_PT': 156, 'NORAD_CAT_ID': 31305},\n",
       " {'H0': '2022-08-06T15:52:59.000', 'N_PT': 216, 'NORAD_CAT_ID': 32766},\n",
       " {'H0': '2022-08-06T17:29:31.000', 'N_PT': 295, 'NORAD_CAT_ID': 32766},\n",
       " {'H0': '2022-08-06T16:52:35.000', 'N_PT': 202, 'NORAD_CAT_ID': 33272},\n",
       " {'H0': '2022-08-06T15:31:17.000', 'N_PT': 162, 'NORAD_CAT_ID': 33500},\n",
       " {'H0': '2022-08-06T12:44:01.000', 'N_PT': 169, 'NORAD_CAT_ID': 36508},\n",
       " {'H0': '2022-08-06T16:40:54.000', 'N_PT': 167, 'NORAD_CAT_ID': 37778},\n",
       " {'H0': '2022-08-06T11:38:02.000', 'N_PT': 195, 'NORAD_CAT_ID': 38771},\n",
       " {'H0': '2022-08-06T13:21:45.000', 'N_PT': 246, 'NORAD_CAT_ID': 39242},\n",
       " {'H0': '2022-08-06T11:47:27.000', 'N_PT': 137, 'NORAD_CAT_ID': 39364},\n",
       " {'H0': '2022-08-06T16:38:21.000', 'N_PT': 235, 'NORAD_CAT_ID': 39625},\n",
       " {'H0': '2022-08-06T13:00:21.000', 'N_PT': 150, 'NORAD_CAT_ID': 39771},\n",
       " {'H0': '2022-08-06T14:33:11.000', 'N_PT': 205, 'NORAD_CAT_ID': 40047},\n",
       " {'H0': '2022-08-06T17:41:50.000', 'N_PT': 213, 'NORAD_CAT_ID': 40262},\n",
       " {'H0': '2022-08-06T12:07:56.000', 'N_PT': 214, 'NORAD_CAT_ID': 40287},\n",
       " {'H0': '2022-08-06T18:42:40.000', 'N_PT': 219, 'NORAD_CAT_ID': 40306},\n",
       " {'H0': '2022-08-06T18:31:26.000', 'N_PT': 183, 'NORAD_CAT_ID': 40358},\n",
       " {'H0': '2022-08-06T11:58:55.000', 'N_PT': 166, 'NORAD_CAT_ID': 40699},\n",
       " {'H0': '2022-08-06T14:55:03.000', 'N_PT': 219, 'NORAD_CAT_ID': 40720},\n",
       " {'H0': '2022-08-06T14:28:07.000', 'N_PT': 252, 'NORAD_CAT_ID': 41333},\n",
       " {'H0': '2022-08-06T12:27:12.000', 'N_PT': 188, 'NORAD_CAT_ID': 41335},\n",
       " {'H0': '2022-08-06T11:12:32.000', 'N_PT': 273, 'NORAD_CAT_ID': 41341},\n",
       " {'H0': '2022-08-06T12:53:52.000', 'N_PT': 263, 'NORAD_CAT_ID': 42052}]"
      ]
     },
     "execution_count": 32,
     "metadata": {},
     "output_type": "execute_result"
    }
   ],
   "source": [
    "orbital_elem = df_conf.to_dict('records')\n",
    "orbital_elem\n",
    "       \n"
   ]
  },
  {
   "cell_type": "code",
   "execution_count": 39,
   "metadata": {},
   "outputs": [
    {
     "data": {
      "text/plain": [
       "{'H0': '2022-08-06T14:54:55.000', 'N_PT': 130, 'NORAD_CAT_ID': 16327}"
      ]
     },
     "execution_count": 39,
     "metadata": {},
     "output_type": "execute_result"
    }
   ],
   "source": [
    "list(filter(lambda item: item['NORAD_CAT_ID'] == 16327 , orbital_elem))[0] # row['NORAD_CAT_ID']"
   ]
  },
  {
   "cell_type": "code",
   "execution_count": 50,
   "metadata": {},
   "outputs": [
    {
     "data": {
      "text/plain": [
       "{'H0': '2022-08-06T12:30:39.000', 'N_PT': 233, 'NORAD_CAT_ID': 2142}"
      ]
     },
     "execution_count": 50,
     "metadata": {},
     "output_type": "execute_result"
    }
   ],
   "source": [
    "next(x for x in orbital_elem if x[\"NORAD_CAT_ID\"] == row['NORAD_CAT_ID'])"
   ]
  },
  {
   "cell_type": "code",
   "execution_count": 16,
   "metadata": {},
   "outputs": [
    {
     "data": {
      "text/plain": [
       "['NORAD_CAT_ID',\n",
       " 'OBJECT_NAME',\n",
       " 'H0',\n",
       " 'DIST_H0',\n",
       " 'H_DIST_MIN',\n",
       " 'PT_DIST_MIN',\n",
       " 'DIST_MIN',\n",
       " 'HF',\n",
       " 'N_PT',\n",
       " 'DIST_HF',\n",
       " 'RCS',\n",
       " 'CCSDS_OMM_VERS',\n",
       " 'COMMENT',\n",
       " 'CREATION_DATE',\n",
       " 'ORIGINATOR',\n",
       " 'OBJECT_ID',\n",
       " 'CENTER_NAME',\n",
       " 'REF_FRAME',\n",
       " 'TIME_SYSTEM',\n",
       " 'MEAN_ELEMENT_THEORY',\n",
       " 'EPOCH',\n",
       " 'MEAN_MOTION',\n",
       " 'ECCENTRICITY',\n",
       " 'INCLINATION',\n",
       " 'RA_OF_ASC_NODE',\n",
       " 'ARG_OF_PERICENTER',\n",
       " 'MEAN_ANOMALY',\n",
       " 'EPHEMERIS_TYPE',\n",
       " 'CLASSIFICATION_TYPE',\n",
       " 'ELEMENT_SET_NO',\n",
       " 'REV_AT_EPOCH',\n",
       " 'BSTAR',\n",
       " 'MEAN_MOTION_DOT',\n",
       " 'MEAN_MOTION_DDOT',\n",
       " 'SEMIMAJOR_AXIS',\n",
       " 'PERIOD',\n",
       " 'APOAPSIS',\n",
       " 'PERIAPSIS',\n",
       " 'OBJECT_TYPE',\n",
       " 'RCS_SIZE',\n",
       " 'COUNTRY_CODE',\n",
       " 'LAUNCH_DATE',\n",
       " 'SITE',\n",
       " 'DECAY_DATE',\n",
       " 'FILE',\n",
       " 'GP_ID',\n",
       " 'TLE_LINE0',\n",
       " 'TLE_LINE1',\n",
       " 'TLE_LINE2']"
      ]
     },
     "execution_count": 16,
     "metadata": {},
     "output_type": "execute_result"
    }
   ],
   "source": [
    "col_list = traj_data.columns.to_list()\n",
    "col_first = ['NORAD_CAT_ID','OBJECT_NAME']\n",
    "for line in col_first: col_list.remove(line)\n",
    "col_first.extend(col_list)\n",
    "col_first\n"
   ]
  },
  {
   "cell_type": "code",
   "execution_count": 5,
   "metadata": {},
   "outputs": [
    {
     "ename": "SyntaxError",
     "evalue": "invalid syntax (1979405099.py, line 1)",
     "output_type": "error",
     "traceback": [
      "\u001b[1;36m  Input \u001b[1;32mIn [5]\u001b[1;36m\u001b[0m\n\u001b[1;33m    df = traj_data.reindex(columns=['NORAD_CAT_ID','OBJECT_NAME',..])\u001b[0m\n\u001b[1;37m                                                                 ^\u001b[0m\n\u001b[1;31mSyntaxError\u001b[0m\u001b[1;31m:\u001b[0m invalid syntax\n"
     ]
    }
   ],
   "source": [
    "df = traj_data.reindex(columns=['NORAD_CAT_ID','OBJECT_NAME',])\n",
    "df"
   ]
  },
  {
   "cell_type": "code",
   "execution_count": 3,
   "metadata": {},
   "outputs": [],
   "source": [
    "header = [\n",
    "    'NORAD_CAT_ID',\n",
    "    'OBJECT_NAME',\n",
    "    'EPOCH',\n",
    "    'H0',\n",
    " 'DIST_H0',\n",
    " 'H_DIST_MIN',\n",
    " 'PT_DIST_MIN',\n",
    " 'DIST_MIN',\n",
    " 'HF',\n",
    " 'N_PT',\n",
    " 'DIST_HF',\n",
    " 'RCS',\n",
    " 'CCSDS_OMM_VERS',\n",
    " 'COMMENT',\n",
    " 'CREATION_DATE',\n",
    " 'ORIGINATOR',\n",
    " 'OBJECT_ID',\n",
    " 'CENTER_NAME',\n",
    " 'REF_FRAME',\n",
    " 'TIME_SYSTEM',\n",
    " 'MEAN_ELEMENT_THEORY',\n",
    " 'MEAN_MOTION',\n",
    " 'ECCENTRICITY',\n",
    " 'INCLINATION',\n",
    " 'RA_OF_ASC_NODE',\n",
    " 'ARG_OF_PERICENTER',\n",
    " 'MEAN_ANOMALY',\n",
    " 'EPHEMERIS_TYPE',\n",
    " 'CLASSIFICATION_TYPE',\n",
    " 'ELEMENT_SET_NO',\n",
    " 'REV_AT_EPOCH',\n",
    " 'BSTAR',\n",
    " 'MEAN_MOTION_DOT',\n",
    " 'MEAN_MOTION_DDOT',\n",
    " 'SEMIMAJOR_AXIS',\n",
    " 'PERIOD',\n",
    " 'APOAPSIS',\n",
    " 'PERIAPSIS',\n",
    " 'OBJECT_TYPE',\n",
    " 'RCS_SIZE',\n",
    " 'COUNTRY_CODE',\n",
    " 'LAUNCH_DATE',\n",
    " 'SITE',\n",
    " 'DECAY_DATE',\n",
    " 'FILE',\n",
    " 'GP_ID',\n",
    " 'TLE_LINE0',\n",
    " 'TLE_LINE1',\n",
    " 'TLE_LINE2']\n",
    "traj_data.to_csv('output.csv', columns = header, index=False)"
   ]
  },
  {
   "cell_type": "code",
   "execution_count": 1,
   "metadata": {},
   "outputs": [
    {
     "data": {
      "text/plain": [
       "'C:\\\\Users\\\\franc\\\\AppData\\\\Local\\\\Temp'"
      ]
     },
     "execution_count": 1,
     "metadata": {},
     "output_type": "execute_result"
    }
   ],
   "source": [
    "import tempfile\n",
    "dir_name = tempfile.gettempdir()\n",
    "dir_name"
   ]
  },
  {
   "cell_type": "code",
   "execution_count": 4,
   "metadata": {},
   "outputs": [
    {
     "data": {
      "text/html": [
       "<div>\n",
       "<style scoped>\n",
       "    .dataframe tbody tr th:only-of-type {\n",
       "        vertical-align: middle;\n",
       "    }\n",
       "\n",
       "    .dataframe tbody tr th {\n",
       "        vertical-align: top;\n",
       "    }\n",
       "\n",
       "    .dataframe thead th {\n",
       "        text-align: right;\n",
       "    }\n",
       "</style>\n",
       "<table border=\"1\" class=\"dataframe\">\n",
       "  <thead>\n",
       "    <tr style=\"text-align: right;\">\n",
       "      <th></th>\n",
       "      <th>NORAD_CAT_ID</th>\n",
       "      <th>RCS</th>\n",
       "    </tr>\n",
       "  </thead>\n",
       "  <tbody>\n",
       "    <tr>\n",
       "      <th>0</th>\n",
       "      <td>47</td>\n",
       "      <td>2.9661</td>\n",
       "    </tr>\n",
       "    <tr>\n",
       "      <th>1</th>\n",
       "      <td>58</td>\n",
       "      <td>1.2843</td>\n",
       "    </tr>\n",
       "    <tr>\n",
       "      <th>2</th>\n",
       "      <td>59</td>\n",
       "      <td>3.4517</td>\n",
       "    </tr>\n",
       "    <tr>\n",
       "      <th>3</th>\n",
       "      <td>118</td>\n",
       "      <td>1.6476</td>\n",
       "    </tr>\n",
       "    <tr>\n",
       "      <th>4</th>\n",
       "      <td>134</td>\n",
       "      <td>1.5570</td>\n",
       "    </tr>\n",
       "  </tbody>\n",
       "</table>\n",
       "</div>"
      ],
      "text/plain": [
       "   NORAD_CAT_ID     RCS\n",
       "0            47  2.9661\n",
       "1            58  1.2843\n",
       "2            59  3.4517\n",
       "3           118  1.6476\n",
       "4           134  1.5570"
      ]
     },
     "execution_count": 4,
     "metadata": {},
     "output_type": "execute_result"
    }
   ],
   "source": [
    "rcs1 = pd.read_csv(\"RCS.csv\")\n",
    "rcs1.head()"
   ]
  },
  {
   "cell_type": "code",
   "execution_count": 2,
   "metadata": {},
   "outputs": [],
   "source": [
    "import json\n",
    "\n",
    "try:\n",
    "    with open('confElem.json', 'r') as fp:\n",
    "        tlevec_json = json.load(fp)\n",
    "    confElements = 'json'\n",
    "except OSError as e:\n",
    "    print(f\"Error:{e.strerror}\"+\" ao ler o arquivo confElem.json\")\n",
    "    try:\n",
    "        tle = T32leFileRead('conftle.txt')\n",
    "        confElements = 'tle'\n",
    "    except OSError as e:\n",
    "        print(f\"Error:{e.strerror}\"+\"ao ler o arquivo conftle.txt\")"
   ]
  },
  {
   "cell_type": "code",
   "execution_count": 4,
   "metadata": {},
   "outputs": [
    {
     "name": "stdout",
     "output_type": "stream",
     "text": [
      "<class 'list'>\n"
     ]
    }
   ],
   "source": [
    "print(type(tlevec_json) )"
   ]
  },
  {
   "cell_type": "code",
   "execution_count": 8,
   "metadata": {},
   "outputs": [
    {
     "name": "stdout",
     "output_type": "stream",
     "text": [
      "<class 'dict'>\n"
     ]
    }
   ],
   "source": [
    "print(type(tlevec_json[0]))"
   ]
  },
  {
   "cell_type": "code",
   "execution_count": 10,
   "metadata": {},
   "outputs": [
    {
     "name": "stdout",
     "output_type": "stream",
     "text": [
      "{'CCSDS_OMM_VERS': '2.0', 'COMMENT': 'GENERATED VIA SPACE-TRACK.ORG API', 'CREATION_DATE': '2022-07-31T03:06:08', 'ORIGINATOR': '18 SPCS', 'OBJECT_NAME': 'TITAN 3C TRANSTAGE R/B', 'OBJECT_ID': '1965-108A', 'CENTER_NAME': 'EARTH', 'REF_FRAME': 'TEME', 'TIME_SYSTEM': 'UTC', 'MEAN_ELEMENT_THEORY': 'SGP4', 'EPOCH': '2022-07-30T07:21:15.435360', 'MEAN_MOTION': '3.86861601', 'ECCENTRICITY': '0.60784240', 'INCLINATION': '26.7079', 'RA_OF_ASC_NODE': '164.0781', 'ARG_OF_PERICENTER': '206.6270', 'MEAN_ANOMALY': '101.7451', 'EPHEMERIS_TYPE': '0', 'CLASSIFICATION_TYPE': 'U', 'NORAD_CAT_ID': '1863', 'ELEMENT_SET_NO': '999', 'REV_AT_EPOCH': '31260', 'BSTAR': '0.00043624000000', 'MEAN_MOTION_DOT': '0.00000594', 'MEAN_MOTION_DDOT': '0.0000000000000', 'SEMIMAJOR_AXIS': '17140.813', 'PERIOD': '372.226', 'APOAPSIS': '21181.591', 'PERIAPSIS': '343.765', 'OBJECT_TYPE': 'ROCKET BODY', 'RCS_SIZE': 'LARGE', 'COUNTRY_CODE': 'US', 'LAUNCH_DATE': '1965-12-21', 'SITE': 'AFETR', 'DECAY_DATE': None, 'FILE': '3525638', 'GP_ID': '209205440', 'TLE_LINE0': '0 TITAN 3C TRANSTAGE R/B', 'TLE_LINE1': '1 01863U 65108A   22211.30642865  .00000594  00000-0  43624-3 0  9990', 'TLE_LINE2': '2 01863  26.7079 164.0781 6078424 206.6270 101.7451  3.86861601312602'}\n"
     ]
    }
   ],
   "source": [
    "print(tlevec_json[0])"
   ]
  },
  {
   "cell_type": "code",
   "execution_count": 16,
   "metadata": {},
   "outputs": [],
   "source": [
    "def get_elem():\n",
    "    from spacetrack import SpaceTrackClient\n",
    "    import pandas as pd\n",
    "    #from StringIO import StringIO\n",
    "    from io import StringIO\n",
    "    # ----------------------------------------------------------------------\n",
    "    # Atualiza a ultima versão dos elementos orbitais no site do Space-Track\n",
    "    # ----------------------------------------------------------------------\n",
    "    loguin = \"francisval20@yahoo.com.br\"\n",
    "    password = \"4mQivHD4CU934Z\"\n",
    "    norad_ids = [1328,7646,22698,22824,25991,27386,43477]    \n",
    "    try:\n",
    "        st = SpaceTrackClient(identity=loguin, password=password)\n",
    "        tlevec_csv = st.gp(norad_cat_id=norad_ids, orderby='norad_cat_id', format='csv')\n",
    "    except IOError:\n",
    "        print('space-track loguin error')\n",
    "        return False\n",
    "\n"
   ]
  },
  {
   "cell_type": "code",
   "execution_count": 17,
   "metadata": {},
   "outputs": [
    {
     "name": "stdout",
     "output_type": "stream",
     "text": [
      "error\n"
     ]
    },
    {
     "data": {
      "text/plain": [
       "False"
      ]
     },
     "execution_count": 17,
     "metadata": {},
     "output_type": "execute_result"
    }
   ],
   "source": [
    "get_elem()"
   ]
  },
  {
   "cell_type": "code",
   "execution_count": 23,
   "metadata": {},
   "outputs": [],
   "source": [
    "from spacetrack import SpaceTrackClient\n",
    "import pandas as pd\n",
    "#from StringIO import StringIO\n",
    "from io import StringIO\n",
    "# ----------------------------------------------------------------------\n",
    "# Atualiza a ultima versão dos elementos orbitais no site do Space-Track\n",
    "# ----------------------------------------------------------------------\n",
    "loguin = \"francisval20@yahoo.com.br\"\n",
    "password = \"4mQivHD4CU934ZV\"\n",
    "norad_ids = [1328,7646,22698,22824,25991,27386,43477]\n",
    "st = SpaceTrackClient(identity=loguin, password=password)"
   ]
  },
  {
   "cell_type": "code",
   "execution_count": 24,
   "metadata": {},
   "outputs": [],
   "source": [
    "st.authenticate()"
   ]
  },
  {
   "cell_type": "code",
   "execution_count": null,
   "metadata": {},
   "outputs": [],
   "source": [
    "tlevec_csv = st.gp(norad_cat_id=norad_ids, orderby='norad_cat_id', format='csv')\n",
    "df = pd.read_csv(StringIO(tlevec_csv), sep=\",\")"
   ]
  },
  {
   "cell_type": "code",
   "execution_count": 13,
   "metadata": {},
   "outputs": [],
   "source": [
    "from spacetrack import SpaceTrackClient\n",
    "import pandas as pd\n",
    "#from StringIO import StringIO\n",
    "from io import StringIO\n",
    "# ----------------------------------------------------------------------\n",
    "# Atualiza a ultima versão dos elementos orbitais no site do Space-Track\n",
    "# ----------------------------------------------------------------------\n",
    "loguin = \"francisval20@yahoo.com.br\"\n",
    "password = \"4mQivHD4CU934ZV\"\n",
    "norad_ids = [1328,7646,22698,22824,25991,27386,43477]\n",
    "st = SpaceTrackClient(identity=loguin, password=password)\n",
    "tlevec_csv = st.gp(norad_cat_id=norad_ids, orderby='norad_cat_id', format='csv')\n",
    "df = pd.read_csv(StringIO(tlevec_csv), sep=\",\")"
   ]
  },
  {
   "cell_type": "code",
   "execution_count": 14,
   "metadata": {},
   "outputs": [
    {
     "data": {
      "text/plain": [
       "['CCSDS_OMM_VERS',\n",
       " 'COMMENT',\n",
       " 'CREATION_DATE',\n",
       " 'ORIGINATOR',\n",
       " 'OBJECT_NAME',\n",
       " 'OBJECT_ID',\n",
       " 'CENTER_NAME',\n",
       " 'REF_FRAME',\n",
       " 'TIME_SYSTEM',\n",
       " 'MEAN_ELEMENT_THEORY',\n",
       " 'EPOCH',\n",
       " 'MEAN_MOTION',\n",
       " 'ECCENTRICITY',\n",
       " 'INCLINATION',\n",
       " 'RA_OF_ASC_NODE',\n",
       " 'ARG_OF_PERICENTER',\n",
       " 'MEAN_ANOMALY',\n",
       " 'EPHEMERIS_TYPE',\n",
       " 'CLASSIFICATION_TYPE',\n",
       " 'NORAD_CAT_ID',\n",
       " 'ELEMENT_SET_NO',\n",
       " 'REV_AT_EPOCH',\n",
       " 'BSTAR',\n",
       " 'MEAN_MOTION_DOT',\n",
       " 'MEAN_MOTION_DDOT',\n",
       " 'SEMIMAJOR_AXIS',\n",
       " 'PERIOD',\n",
       " 'APOAPSIS',\n",
       " 'PERIAPSIS',\n",
       " 'OBJECT_TYPE',\n",
       " 'RCS_SIZE',\n",
       " 'COUNTRY_CODE',\n",
       " 'LAUNCH_DATE',\n",
       " 'SITE',\n",
       " 'DECAY_DATE',\n",
       " 'FILE',\n",
       " 'GP_ID',\n",
       " 'TLE_LINE0',\n",
       " 'TLE_LINE1',\n",
       " 'TLE_LINE2']"
      ]
     },
     "execution_count": 14,
     "metadata": {},
     "output_type": "execute_result"
    }
   ],
   "source": [
    "df.columns.to_list()"
   ]
  },
  {
   "cell_type": "code",
   "execution_count": null,
   "metadata": {},
   "outputs": [],
   "source": [
    "df.head()"
   ]
  },
  {
   "cell_type": "code",
   "execution_count": null,
   "metadata": {},
   "outputs": [],
   "source": []
  },
  {
   "cell_type": "code",
   "execution_count": 18,
   "metadata": {},
   "outputs": [],
   "source": [
    "# df_dict = df.to_dict('dict')\n",
    "\n",
    "df_dict = df.to_dict('records')"
   ]
  },
  {
   "cell_type": "code",
   "execution_count": null,
   "metadata": {},
   "outputs": [],
   "source": [
    "df_dict[5]"
   ]
  },
  {
   "cell_type": "code",
   "execution_count": 21,
   "metadata": {},
   "outputs": [],
   "source": [
    "sel_orbital_elem = []"
   ]
  },
  {
   "cell_type": "code",
   "execution_count": 26,
   "metadata": {},
   "outputs": [],
   "source": [
    "sel_orbital_elem.append(df_dict[3]) "
   ]
  },
  {
   "cell_type": "code",
   "execution_count": null,
   "metadata": {},
   "outputs": [],
   "source": [
    "sel_orbital_elem"
   ]
  },
  {
   "cell_type": "code",
   "execution_count": null,
   "metadata": {},
   "outputs": [],
   "source": [
    "import pandas as pd\n",
    "dicpd = pd.DataFrame(sel_orbital_elem)\n",
    "dicpd.head()"
   ]
  },
  {
   "cell_type": "code",
   "execution_count": 13,
   "metadata": {},
   "outputs": [],
   "source": [
    "df_dict = df.to_dict('list')\n"
   ]
  },
  {
   "cell_type": "code",
   "execution_count": 16,
   "metadata": {},
   "outputs": [
    {
     "data": {
      "text/plain": [
       "[1328, 7646, 22698, 22824, 25991, 27386, 43477]"
      ]
     },
     "execution_count": 16,
     "metadata": {},
     "output_type": "execute_result"
    }
   ],
   "source": [
    "df_dict[\"NORAD_CAT_ID\"]"
   ]
  },
  {
   "cell_type": "code",
   "execution_count": 53,
   "metadata": {},
   "outputs": [
    {
     "data": {
      "text/plain": [
       "dict"
      ]
     },
     "execution_count": 53,
     "metadata": {},
     "output_type": "execute_result"
    }
   ],
   "source": [
    "type(df_dict[0])"
   ]
  },
  {
   "cell_type": "code",
   "execution_count": 48,
   "metadata": {},
   "outputs": [],
   "source": [
    "import json\n",
    "\n",
    "try:\n",
    "    with open('confElem.json', 'r') as fp:\n",
    "        tlevec_json = json.load(fp)\n",
    "    confElements = 'json'\n",
    "except OSError as e:\n",
    "    print(f\"Error:{e.strerror}\"+\" ao ler o arquivo confElem.json\")\n",
    "    try:\n",
    "        tle = T32leFileRead('conftle.txt')\n",
    "        confElements = 'tle'\n",
    "    except OSError as e:\n",
    "        print(f\"Error:{e.strerror}\"+\"ao ler o arquivo conftle.txt\")"
   ]
  },
  {
   "cell_type": "code",
   "execution_count": 49,
   "metadata": {},
   "outputs": [
    {
     "data": {
      "text/plain": [
       "'2 01863  26.7079 164.0781 6078424 206.6270 101.7451  3.86861601312602'"
      ]
     },
     "execution_count": 49,
     "metadata": {},
     "output_type": "execute_result"
    }
   ],
   "source": [
    "tlevec_json[0][\"TLE_LINE2\"]"
   ]
  },
  {
   "cell_type": "code",
   "execution_count": 52,
   "metadata": {},
   "outputs": [
    {
     "data": {
      "text/plain": [
       "dict"
      ]
     },
     "execution_count": 52,
     "metadata": {},
     "output_type": "execute_result"
    }
   ],
   "source": [
    "type(tlevec_json[0])"
   ]
  },
  {
   "cell_type": "code",
   "execution_count": 7,
   "metadata": {},
   "outputs": [],
   "source": [
    "sel = { \"NORAD_CAT_ID\":[],\n",
    "        \"casa\":[],\n",
    "        \"cac\":[]\n",
    "        }"
   ]
  },
  {
   "cell_type": "code",
   "execution_count": 8,
   "metadata": {},
   "outputs": [],
   "source": [
    "sel[\"NORAD_CAT_ID\"].append(210)\n",
    "sel[\"NORAD_CAT_ID\"].append(120)\n",
    "\n",
    "sel[\"casa\"].append(210)\n",
    "sel[\"casa\"].append(120)\n",
    "\n",
    "sel[\"cac\"].append(110)\n",
    "sel[\"cac\"].append(1)"
   ]
  },
  {
   "cell_type": "code",
   "execution_count": 3,
   "metadata": {},
   "outputs": [
    {
     "data": {
      "text/plain": [
       "{'NORAD_CAT_ID': [210, 120], 'casa': [210, 120], 'cac': [110, 1]}"
      ]
     },
     "execution_count": 3,
     "metadata": {},
     "output_type": "execute_result"
    }
   ],
   "source": [
    "sel"
   ]
  },
  {
   "cell_type": "code",
   "execution_count": 11,
   "metadata": {},
   "outputs": [
    {
     "data": {
      "text/plain": [
       "dict_keys(['NORAD_CAT_ID', 'casa', 'cac'])"
      ]
     },
     "execution_count": 11,
     "metadata": {},
     "output_type": "execute_result"
    }
   ],
   "source": [
    "sel.keys()"
   ]
  },
  {
   "cell_type": "code",
   "execution_count": 12,
   "metadata": {},
   "outputs": [
    {
     "data": {
      "text/plain": [
       "dict_items([('NORAD_CAT_ID', [210, 120]), ('casa', [210, 120]), ('cac', [110, 1])])"
      ]
     },
     "execution_count": 12,
     "metadata": {},
     "output_type": "execute_result"
    }
   ],
   "source": [
    "sel.items()"
   ]
  },
  {
   "cell_type": "code",
   "execution_count": 16,
   "metadata": {},
   "outputs": [],
   "source": [
    "import pandas as pd\n",
    "df = pd.DataFrame(sel)"
   ]
  },
  {
   "cell_type": "code",
   "execution_count": 17,
   "metadata": {},
   "outputs": [
    {
     "data": {
      "text/html": [
       "<div>\n",
       "<style scoped>\n",
       "    .dataframe tbody tr th:only-of-type {\n",
       "        vertical-align: middle;\n",
       "    }\n",
       "\n",
       "    .dataframe tbody tr th {\n",
       "        vertical-align: top;\n",
       "    }\n",
       "\n",
       "    .dataframe thead th {\n",
       "        text-align: right;\n",
       "    }\n",
       "</style>\n",
       "<table border=\"1\" class=\"dataframe\">\n",
       "  <thead>\n",
       "    <tr style=\"text-align: right;\">\n",
       "      <th></th>\n",
       "      <th>NORAD_CAT_ID</th>\n",
       "      <th>casa</th>\n",
       "      <th>cac</th>\n",
       "    </tr>\n",
       "  </thead>\n",
       "  <tbody>\n",
       "    <tr>\n",
       "      <th>0</th>\n",
       "      <td>210</td>\n",
       "      <td>210</td>\n",
       "      <td>110</td>\n",
       "    </tr>\n",
       "    <tr>\n",
       "      <th>1</th>\n",
       "      <td>120</td>\n",
       "      <td>120</td>\n",
       "      <td>1</td>\n",
       "    </tr>\n",
       "  </tbody>\n",
       "</table>\n",
       "</div>"
      ],
      "text/plain": [
       "   NORAD_CAT_ID  casa  cac\n",
       "0           210   210  110\n",
       "1           120   120    1"
      ]
     },
     "execution_count": 17,
     "metadata": {},
     "output_type": "execute_result"
    }
   ],
   "source": [
    "df"
   ]
  }
 ],
 "metadata": {
  "kernelspec": {
   "display_name": "Python 3.10.4 ('orbit2prop')",
   "language": "python",
   "name": "python3"
  },
  "language_info": {
   "codemirror_mode": {
    "name": "ipython",
    "version": 3
   },
   "file_extension": ".py",
   "mimetype": "text/x-python",
   "name": "python",
   "nbconvert_exporter": "python",
   "pygments_lexer": "ipython3",
   "version": "3.10.4"
  },
  "orig_nbformat": 4,
  "vscode": {
   "interpreter": {
    "hash": "75a7af300593d40e5d074f5f77fc2893c8f5e02fd067d75ecfc4bf17b094a659"
   }
  }
 },
 "nbformat": 4,
 "nbformat_minor": 2
}
