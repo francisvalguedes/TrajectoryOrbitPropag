{
 "cells": [
  {
   "cell_type": "code",
   "execution_count": 13,
   "metadata": {},
   "outputs": [
    {
     "data": {
      "text/plain": [
       "'2022_08_07_13_00_00_000'"
      ]
     },
     "execution_count": 13,
     "metadata": {},
     "output_type": "execute_result"
    }
   ],
   "source": [
    "from astropy.time import Time\n",
    "\n",
    "Time('2022-08-07T13:00:00.000', format='isot').strftime('%Y_%m_%d_%H_%M_%S_%f')"
   ]
  },
  {
   "cell_type": "code",
   "execution_count": 16,
   "metadata": {},
   "outputs": [
    {
     "data": {
      "text/plain": [
       "'2022_08_07-H0-13_00_00TU'"
      ]
     },
     "execution_count": 16,
     "metadata": {},
     "output_type": "execute_result"
    }
   ],
   "source": [
    "from astropy.time import Time\n",
    "\n",
    "Time('2022-08-07T13:00:00.000', format='isot').strftime('%Y_%m_%d-H0-%H_%M_%STU')"
   ]
  },
  {
   "cell_type": "code",
   "execution_count": 9,
   "metadata": {},
   "outputs": [
    {
     "data": {
      "text/plain": [
       "'2022_08_07_22_46_51_803'"
      ]
     },
     "execution_count": 9,
     "metadata": {},
     "output_type": "execute_result"
    }
   ],
   "source": [
    "import time\n",
    "from datetime import datetime\n",
    "datetime.utcnow().strftime('%Y_%m_%d_%H_%M_%S_%f')[:-3]"
   ]
  },
  {
   "cell_type": "code",
   "execution_count": 8,
   "metadata": {},
   "outputs": [
    {
     "data": {
      "text/plain": [
       "1659912296.9704778"
      ]
     },
     "execution_count": 8,
     "metadata": {},
     "output_type": "execute_result"
    }
   ],
   "source": [
    "ini"
   ]
  },
  {
   "cell_type": "code",
   "execution_count": 1,
   "metadata": {},
   "outputs": [
    {
     "data": {
      "text/plain": [
       "['H0',\n",
       " 'DIST_H0',\n",
       " 'H_DIST_MIN',\n",
       " 'PT_DIST_MIN',\n",
       " 'DIST_MIN',\n",
       " 'HF',\n",
       " 'N_PT',\n",
       " 'DIST_HF',\n",
       " 'RCS',\n",
       " 'CCSDS_OMM_VERS',\n",
       " 'COMMENT',\n",
       " 'CREATION_DATE',\n",
       " 'ORIGINATOR',\n",
       " 'OBJECT_NAME',\n",
       " 'OBJECT_ID',\n",
       " 'CENTER_NAME',\n",
       " 'REF_FRAME',\n",
       " 'TIME_SYSTEM',\n",
       " 'MEAN_ELEMENT_THEORY',\n",
       " 'EPOCH',\n",
       " 'MEAN_MOTION',\n",
       " 'ECCENTRICITY',\n",
       " 'INCLINATION',\n",
       " 'RA_OF_ASC_NODE',\n",
       " 'ARG_OF_PERICENTER',\n",
       " 'MEAN_ANOMALY',\n",
       " 'EPHEMERIS_TYPE',\n",
       " 'CLASSIFICATION_TYPE',\n",
       " 'NORAD_CAT_ID',\n",
       " 'ELEMENT_SET_NO',\n",
       " 'REV_AT_EPOCH',\n",
       " 'BSTAR',\n",
       " 'MEAN_MOTION_DOT',\n",
       " 'MEAN_MOTION_DDOT',\n",
       " 'SEMIMAJOR_AXIS',\n",
       " 'PERIOD',\n",
       " 'APOAPSIS',\n",
       " 'PERIAPSIS',\n",
       " 'OBJECT_TYPE',\n",
       " 'RCS_SIZE',\n",
       " 'COUNTRY_CODE',\n",
       " 'LAUNCH_DATE',\n",
       " 'SITE',\n",
       " 'DECAY_DATE',\n",
       " 'FILE',\n",
       " 'GP_ID',\n",
       " 'TLE_LINE0',\n",
       " 'TLE_LINE1',\n",
       " 'TLE_LINE2']"
      ]
     },
     "execution_count": 1,
     "metadata": {},
     "output_type": "execute_result"
    }
   ],
   "source": [
    "import pandas as pd\n",
    "traj_data = pd.read_csv(\"traj_data.csv\")\n",
    "traj_data.columns.to_list()"
   ]
  },
  {
   "cell_type": "code",
   "execution_count": 16,
   "metadata": {},
   "outputs": [
    {
     "data": {
      "text/plain": [
       "['NORAD_CAT_ID',\n",
       " 'OBJECT_NAME',\n",
       " 'H0',\n",
       " 'DIST_H0',\n",
       " 'H_DIST_MIN',\n",
       " 'PT_DIST_MIN',\n",
       " 'DIST_MIN',\n",
       " 'HF',\n",
       " 'N_PT',\n",
       " 'DIST_HF',\n",
       " 'RCS',\n",
       " 'CCSDS_OMM_VERS',\n",
       " 'COMMENT',\n",
       " 'CREATION_DATE',\n",
       " 'ORIGINATOR',\n",
       " 'OBJECT_ID',\n",
       " 'CENTER_NAME',\n",
       " 'REF_FRAME',\n",
       " 'TIME_SYSTEM',\n",
       " 'MEAN_ELEMENT_THEORY',\n",
       " 'EPOCH',\n",
       " 'MEAN_MOTION',\n",
       " 'ECCENTRICITY',\n",
       " 'INCLINATION',\n",
       " 'RA_OF_ASC_NODE',\n",
       " 'ARG_OF_PERICENTER',\n",
       " 'MEAN_ANOMALY',\n",
       " 'EPHEMERIS_TYPE',\n",
       " 'CLASSIFICATION_TYPE',\n",
       " 'ELEMENT_SET_NO',\n",
       " 'REV_AT_EPOCH',\n",
       " 'BSTAR',\n",
       " 'MEAN_MOTION_DOT',\n",
       " 'MEAN_MOTION_DDOT',\n",
       " 'SEMIMAJOR_AXIS',\n",
       " 'PERIOD',\n",
       " 'APOAPSIS',\n",
       " 'PERIAPSIS',\n",
       " 'OBJECT_TYPE',\n",
       " 'RCS_SIZE',\n",
       " 'COUNTRY_CODE',\n",
       " 'LAUNCH_DATE',\n",
       " 'SITE',\n",
       " 'DECAY_DATE',\n",
       " 'FILE',\n",
       " 'GP_ID',\n",
       " 'TLE_LINE0',\n",
       " 'TLE_LINE1',\n",
       " 'TLE_LINE2']"
      ]
     },
     "execution_count": 16,
     "metadata": {},
     "output_type": "execute_result"
    }
   ],
   "source": [
    "col_list = traj_data.columns.to_list()\n",
    "col_first = ['NORAD_CAT_ID','OBJECT_NAME']\n",
    "for line in col_first: col_list.remove(line)\n",
    "col_first.extend(col_list)\n",
    "col_first\n"
   ]
  },
  {
   "cell_type": "code",
   "execution_count": 5,
   "metadata": {},
   "outputs": [
    {
     "ename": "SyntaxError",
     "evalue": "invalid syntax (1979405099.py, line 1)",
     "output_type": "error",
     "traceback": [
      "\u001b[1;36m  Input \u001b[1;32mIn [5]\u001b[1;36m\u001b[0m\n\u001b[1;33m    df = traj_data.reindex(columns=['NORAD_CAT_ID','OBJECT_NAME',..])\u001b[0m\n\u001b[1;37m                                                                 ^\u001b[0m\n\u001b[1;31mSyntaxError\u001b[0m\u001b[1;31m:\u001b[0m invalid syntax\n"
     ]
    }
   ],
   "source": [
    "df = traj_data.reindex(columns=['NORAD_CAT_ID','OBJECT_NAME',])\n",
    "df"
   ]
  },
  {
   "cell_type": "code",
   "execution_count": 3,
   "metadata": {},
   "outputs": [],
   "source": [
    "header = [\n",
    "    'NORAD_CAT_ID',\n",
    "    'OBJECT_NAME',\n",
    "    'EPOCH',\n",
    "    'H0',\n",
    " 'DIST_H0',\n",
    " 'H_DIST_MIN',\n",
    " 'PT_DIST_MIN',\n",
    " 'DIST_MIN',\n",
    " 'HF',\n",
    " 'N_PT',\n",
    " 'DIST_HF',\n",
    " 'RCS',\n",
    " 'CCSDS_OMM_VERS',\n",
    " 'COMMENT',\n",
    " 'CREATION_DATE',\n",
    " 'ORIGINATOR',\n",
    " 'OBJECT_ID',\n",
    " 'CENTER_NAME',\n",
    " 'REF_FRAME',\n",
    " 'TIME_SYSTEM',\n",
    " 'MEAN_ELEMENT_THEORY',\n",
    " 'MEAN_MOTION',\n",
    " 'ECCENTRICITY',\n",
    " 'INCLINATION',\n",
    " 'RA_OF_ASC_NODE',\n",
    " 'ARG_OF_PERICENTER',\n",
    " 'MEAN_ANOMALY',\n",
    " 'EPHEMERIS_TYPE',\n",
    " 'CLASSIFICATION_TYPE',\n",
    " 'ELEMENT_SET_NO',\n",
    " 'REV_AT_EPOCH',\n",
    " 'BSTAR',\n",
    " 'MEAN_MOTION_DOT',\n",
    " 'MEAN_MOTION_DDOT',\n",
    " 'SEMIMAJOR_AXIS',\n",
    " 'PERIOD',\n",
    " 'APOAPSIS',\n",
    " 'PERIAPSIS',\n",
    " 'OBJECT_TYPE',\n",
    " 'RCS_SIZE',\n",
    " 'COUNTRY_CODE',\n",
    " 'LAUNCH_DATE',\n",
    " 'SITE',\n",
    " 'DECAY_DATE',\n",
    " 'FILE',\n",
    " 'GP_ID',\n",
    " 'TLE_LINE0',\n",
    " 'TLE_LINE1',\n",
    " 'TLE_LINE2']\n",
    "traj_data.to_csv('output.csv', columns = header, index=False)"
   ]
  },
  {
   "cell_type": "code",
   "execution_count": 1,
   "metadata": {},
   "outputs": [
    {
     "data": {
      "text/plain": [
       "'C:\\\\Users\\\\franc\\\\AppData\\\\Local\\\\Temp'"
      ]
     },
     "execution_count": 1,
     "metadata": {},
     "output_type": "execute_result"
    }
   ],
   "source": [
    "import tempfile\n",
    "dir_name = tempfile.gettempdir()\n",
    "dir_name"
   ]
  },
  {
   "cell_type": "code",
   "execution_count": 4,
   "metadata": {},
   "outputs": [
    {
     "data": {
      "text/html": [
       "<div>\n",
       "<style scoped>\n",
       "    .dataframe tbody tr th:only-of-type {\n",
       "        vertical-align: middle;\n",
       "    }\n",
       "\n",
       "    .dataframe tbody tr th {\n",
       "        vertical-align: top;\n",
       "    }\n",
       "\n",
       "    .dataframe thead th {\n",
       "        text-align: right;\n",
       "    }\n",
       "</style>\n",
       "<table border=\"1\" class=\"dataframe\">\n",
       "  <thead>\n",
       "    <tr style=\"text-align: right;\">\n",
       "      <th></th>\n",
       "      <th>NORAD_CAT_ID</th>\n",
       "      <th>RCS</th>\n",
       "    </tr>\n",
       "  </thead>\n",
       "  <tbody>\n",
       "    <tr>\n",
       "      <th>0</th>\n",
       "      <td>47</td>\n",
       "      <td>2.9661</td>\n",
       "    </tr>\n",
       "    <tr>\n",
       "      <th>1</th>\n",
       "      <td>58</td>\n",
       "      <td>1.2843</td>\n",
       "    </tr>\n",
       "    <tr>\n",
       "      <th>2</th>\n",
       "      <td>59</td>\n",
       "      <td>3.4517</td>\n",
       "    </tr>\n",
       "    <tr>\n",
       "      <th>3</th>\n",
       "      <td>118</td>\n",
       "      <td>1.6476</td>\n",
       "    </tr>\n",
       "    <tr>\n",
       "      <th>4</th>\n",
       "      <td>134</td>\n",
       "      <td>1.5570</td>\n",
       "    </tr>\n",
       "  </tbody>\n",
       "</table>\n",
       "</div>"
      ],
      "text/plain": [
       "   NORAD_CAT_ID     RCS\n",
       "0            47  2.9661\n",
       "1            58  1.2843\n",
       "2            59  3.4517\n",
       "3           118  1.6476\n",
       "4           134  1.5570"
      ]
     },
     "execution_count": 4,
     "metadata": {},
     "output_type": "execute_result"
    }
   ],
   "source": [
    "rcs1 = pd.read_csv(\"RCS.csv\")\n",
    "rcs1.head()"
   ]
  },
  {
   "cell_type": "code",
   "execution_count": 2,
   "metadata": {},
   "outputs": [],
   "source": [
    "import json\n",
    "\n",
    "try:\n",
    "    with open('confElem.json', 'r') as fp:\n",
    "        tlevec_json = json.load(fp)\n",
    "    confElements = 'json'\n",
    "except OSError as e:\n",
    "    print(f\"Error:{e.strerror}\"+\" ao ler o arquivo confElem.json\")\n",
    "    try:\n",
    "        tle = T32leFileRead('conftle.txt')\n",
    "        confElements = 'tle'\n",
    "    except OSError as e:\n",
    "        print(f\"Error:{e.strerror}\"+\"ao ler o arquivo conftle.txt\")"
   ]
  },
  {
   "cell_type": "code",
   "execution_count": 4,
   "metadata": {},
   "outputs": [
    {
     "name": "stdout",
     "output_type": "stream",
     "text": [
      "<class 'list'>\n"
     ]
    }
   ],
   "source": [
    "print(type(tlevec_json) )"
   ]
  },
  {
   "cell_type": "code",
   "execution_count": 8,
   "metadata": {},
   "outputs": [
    {
     "name": "stdout",
     "output_type": "stream",
     "text": [
      "<class 'dict'>\n"
     ]
    }
   ],
   "source": [
    "print(type(tlevec_json[0]))"
   ]
  },
  {
   "cell_type": "code",
   "execution_count": 10,
   "metadata": {},
   "outputs": [
    {
     "name": "stdout",
     "output_type": "stream",
     "text": [
      "{'CCSDS_OMM_VERS': '2.0', 'COMMENT': 'GENERATED VIA SPACE-TRACK.ORG API', 'CREATION_DATE': '2022-07-31T03:06:08', 'ORIGINATOR': '18 SPCS', 'OBJECT_NAME': 'TITAN 3C TRANSTAGE R/B', 'OBJECT_ID': '1965-108A', 'CENTER_NAME': 'EARTH', 'REF_FRAME': 'TEME', 'TIME_SYSTEM': 'UTC', 'MEAN_ELEMENT_THEORY': 'SGP4', 'EPOCH': '2022-07-30T07:21:15.435360', 'MEAN_MOTION': '3.86861601', 'ECCENTRICITY': '0.60784240', 'INCLINATION': '26.7079', 'RA_OF_ASC_NODE': '164.0781', 'ARG_OF_PERICENTER': '206.6270', 'MEAN_ANOMALY': '101.7451', 'EPHEMERIS_TYPE': '0', 'CLASSIFICATION_TYPE': 'U', 'NORAD_CAT_ID': '1863', 'ELEMENT_SET_NO': '999', 'REV_AT_EPOCH': '31260', 'BSTAR': '0.00043624000000', 'MEAN_MOTION_DOT': '0.00000594', 'MEAN_MOTION_DDOT': '0.0000000000000', 'SEMIMAJOR_AXIS': '17140.813', 'PERIOD': '372.226', 'APOAPSIS': '21181.591', 'PERIAPSIS': '343.765', 'OBJECT_TYPE': 'ROCKET BODY', 'RCS_SIZE': 'LARGE', 'COUNTRY_CODE': 'US', 'LAUNCH_DATE': '1965-12-21', 'SITE': 'AFETR', 'DECAY_DATE': None, 'FILE': '3525638', 'GP_ID': '209205440', 'TLE_LINE0': '0 TITAN 3C TRANSTAGE R/B', 'TLE_LINE1': '1 01863U 65108A   22211.30642865  .00000594  00000-0  43624-3 0  9990', 'TLE_LINE2': '2 01863  26.7079 164.0781 6078424 206.6270 101.7451  3.86861601312602'}\n"
     ]
    }
   ],
   "source": [
    "print(tlevec_json[0])"
   ]
  },
  {
   "cell_type": "code",
   "execution_count": 16,
   "metadata": {},
   "outputs": [],
   "source": [
    "def get_elem():\n",
    "    from spacetrack import SpaceTrackClient\n",
    "    import pandas as pd\n",
    "    #from StringIO import StringIO\n",
    "    from io import StringIO\n",
    "    # ----------------------------------------------------------------------\n",
    "    # Atualiza a ultima versão dos elementos orbitais no site do Space-Track\n",
    "    # ----------------------------------------------------------------------\n",
    "    loguin = \"francisval20@yahoo.com.br\"\n",
    "    password = \"4mQivHD4CU934Z\"\n",
    "    norad_ids = [1328,7646,22698,22824,25991,27386,43477]    \n",
    "    try:\n",
    "        st = SpaceTrackClient(identity=loguin, password=password)\n",
    "        tlevec_csv = st.gp(norad_cat_id=norad_ids, orderby='norad_cat_id', format='csv')\n",
    "    except IOError:\n",
    "        print('space-track loguin error')\n",
    "        return False\n",
    "\n"
   ]
  },
  {
   "cell_type": "code",
   "execution_count": 17,
   "metadata": {},
   "outputs": [
    {
     "name": "stdout",
     "output_type": "stream",
     "text": [
      "error\n"
     ]
    },
    {
     "data": {
      "text/plain": [
       "False"
      ]
     },
     "execution_count": 17,
     "metadata": {},
     "output_type": "execute_result"
    }
   ],
   "source": [
    "get_elem()"
   ]
  },
  {
   "cell_type": "code",
   "execution_count": 23,
   "metadata": {},
   "outputs": [],
   "source": [
    "from spacetrack import SpaceTrackClient\n",
    "import pandas as pd\n",
    "#from StringIO import StringIO\n",
    "from io import StringIO\n",
    "# ----------------------------------------------------------------------\n",
    "# Atualiza a ultima versão dos elementos orbitais no site do Space-Track\n",
    "# ----------------------------------------------------------------------\n",
    "loguin = \"francisval20@yahoo.com.br\"\n",
    "password = \"4mQivHD4CU934ZV\"\n",
    "norad_ids = [1328,7646,22698,22824,25991,27386,43477]\n",
    "st = SpaceTrackClient(identity=loguin, password=password)"
   ]
  },
  {
   "cell_type": "code",
   "execution_count": 24,
   "metadata": {},
   "outputs": [],
   "source": [
    "st.authenticate()"
   ]
  },
  {
   "cell_type": "code",
   "execution_count": null,
   "metadata": {},
   "outputs": [],
   "source": [
    "tlevec_csv = st.gp(norad_cat_id=norad_ids, orderby='norad_cat_id', format='csv')\n",
    "df = pd.read_csv(StringIO(tlevec_csv), sep=\",\")"
   ]
  },
  {
   "cell_type": "code",
   "execution_count": 13,
   "metadata": {},
   "outputs": [],
   "source": [
    "from spacetrack import SpaceTrackClient\n",
    "import pandas as pd\n",
    "#from StringIO import StringIO\n",
    "from io import StringIO\n",
    "# ----------------------------------------------------------------------\n",
    "# Atualiza a ultima versão dos elementos orbitais no site do Space-Track\n",
    "# ----------------------------------------------------------------------\n",
    "loguin = \"francisval20@yahoo.com.br\"\n",
    "password = \"4mQivHD4CU934ZV\"\n",
    "norad_ids = [1328,7646,22698,22824,25991,27386,43477]\n",
    "st = SpaceTrackClient(identity=loguin, password=password)\n",
    "tlevec_csv = st.gp(norad_cat_id=norad_ids, orderby='norad_cat_id', format='csv')\n",
    "df = pd.read_csv(StringIO(tlevec_csv), sep=\",\")"
   ]
  },
  {
   "cell_type": "code",
   "execution_count": 14,
   "metadata": {},
   "outputs": [
    {
     "data": {
      "text/plain": [
       "['CCSDS_OMM_VERS',\n",
       " 'COMMENT',\n",
       " 'CREATION_DATE',\n",
       " 'ORIGINATOR',\n",
       " 'OBJECT_NAME',\n",
       " 'OBJECT_ID',\n",
       " 'CENTER_NAME',\n",
       " 'REF_FRAME',\n",
       " 'TIME_SYSTEM',\n",
       " 'MEAN_ELEMENT_THEORY',\n",
       " 'EPOCH',\n",
       " 'MEAN_MOTION',\n",
       " 'ECCENTRICITY',\n",
       " 'INCLINATION',\n",
       " 'RA_OF_ASC_NODE',\n",
       " 'ARG_OF_PERICENTER',\n",
       " 'MEAN_ANOMALY',\n",
       " 'EPHEMERIS_TYPE',\n",
       " 'CLASSIFICATION_TYPE',\n",
       " 'NORAD_CAT_ID',\n",
       " 'ELEMENT_SET_NO',\n",
       " 'REV_AT_EPOCH',\n",
       " 'BSTAR',\n",
       " 'MEAN_MOTION_DOT',\n",
       " 'MEAN_MOTION_DDOT',\n",
       " 'SEMIMAJOR_AXIS',\n",
       " 'PERIOD',\n",
       " 'APOAPSIS',\n",
       " 'PERIAPSIS',\n",
       " 'OBJECT_TYPE',\n",
       " 'RCS_SIZE',\n",
       " 'COUNTRY_CODE',\n",
       " 'LAUNCH_DATE',\n",
       " 'SITE',\n",
       " 'DECAY_DATE',\n",
       " 'FILE',\n",
       " 'GP_ID',\n",
       " 'TLE_LINE0',\n",
       " 'TLE_LINE1',\n",
       " 'TLE_LINE2']"
      ]
     },
     "execution_count": 14,
     "metadata": {},
     "output_type": "execute_result"
    }
   ],
   "source": [
    "df.columns.to_list()"
   ]
  },
  {
   "cell_type": "code",
   "execution_count": null,
   "metadata": {},
   "outputs": [],
   "source": [
    "df.head()"
   ]
  },
  {
   "cell_type": "code",
   "execution_count": null,
   "metadata": {},
   "outputs": [],
   "source": []
  },
  {
   "cell_type": "code",
   "execution_count": 18,
   "metadata": {},
   "outputs": [],
   "source": [
    "# df_dict = df.to_dict('dict')\n",
    "\n",
    "df_dict = df.to_dict('records')"
   ]
  },
  {
   "cell_type": "code",
   "execution_count": null,
   "metadata": {},
   "outputs": [],
   "source": [
    "df_dict[5]"
   ]
  },
  {
   "cell_type": "code",
   "execution_count": 21,
   "metadata": {},
   "outputs": [],
   "source": [
    "sel_orbital_elem = []"
   ]
  },
  {
   "cell_type": "code",
   "execution_count": 26,
   "metadata": {},
   "outputs": [],
   "source": [
    "sel_orbital_elem.append(df_dict[3]) "
   ]
  },
  {
   "cell_type": "code",
   "execution_count": null,
   "metadata": {},
   "outputs": [],
   "source": [
    "sel_orbital_elem"
   ]
  },
  {
   "cell_type": "code",
   "execution_count": null,
   "metadata": {},
   "outputs": [],
   "source": [
    "import pandas as pd\n",
    "dicpd = pd.DataFrame(sel_orbital_elem)\n",
    "dicpd.head()"
   ]
  },
  {
   "cell_type": "code",
   "execution_count": 13,
   "metadata": {},
   "outputs": [],
   "source": [
    "df_dict = df.to_dict('list')\n"
   ]
  },
  {
   "cell_type": "code",
   "execution_count": 16,
   "metadata": {},
   "outputs": [
    {
     "data": {
      "text/plain": [
       "[1328, 7646, 22698, 22824, 25991, 27386, 43477]"
      ]
     },
     "execution_count": 16,
     "metadata": {},
     "output_type": "execute_result"
    }
   ],
   "source": [
    "df_dict[\"NORAD_CAT_ID\"]"
   ]
  },
  {
   "cell_type": "code",
   "execution_count": 53,
   "metadata": {},
   "outputs": [
    {
     "data": {
      "text/plain": [
       "dict"
      ]
     },
     "execution_count": 53,
     "metadata": {},
     "output_type": "execute_result"
    }
   ],
   "source": [
    "type(df_dict[0])"
   ]
  },
  {
   "cell_type": "code",
   "execution_count": 48,
   "metadata": {},
   "outputs": [],
   "source": [
    "import json\n",
    "\n",
    "try:\n",
    "    with open('confElem.json', 'r') as fp:\n",
    "        tlevec_json = json.load(fp)\n",
    "    confElements = 'json'\n",
    "except OSError as e:\n",
    "    print(f\"Error:{e.strerror}\"+\" ao ler o arquivo confElem.json\")\n",
    "    try:\n",
    "        tle = T32leFileRead('conftle.txt')\n",
    "        confElements = 'tle'\n",
    "    except OSError as e:\n",
    "        print(f\"Error:{e.strerror}\"+\"ao ler o arquivo conftle.txt\")"
   ]
  },
  {
   "cell_type": "code",
   "execution_count": 49,
   "metadata": {},
   "outputs": [
    {
     "data": {
      "text/plain": [
       "'2 01863  26.7079 164.0781 6078424 206.6270 101.7451  3.86861601312602'"
      ]
     },
     "execution_count": 49,
     "metadata": {},
     "output_type": "execute_result"
    }
   ],
   "source": [
    "tlevec_json[0][\"TLE_LINE2\"]"
   ]
  },
  {
   "cell_type": "code",
   "execution_count": 52,
   "metadata": {},
   "outputs": [
    {
     "data": {
      "text/plain": [
       "dict"
      ]
     },
     "execution_count": 52,
     "metadata": {},
     "output_type": "execute_result"
    }
   ],
   "source": [
    "type(tlevec_json[0])"
   ]
  },
  {
   "cell_type": "code",
   "execution_count": 7,
   "metadata": {},
   "outputs": [],
   "source": [
    "sel = { \"NORAD_CAT_ID\":[],\n",
    "        \"casa\":[],\n",
    "        \"cac\":[]\n",
    "        }"
   ]
  },
  {
   "cell_type": "code",
   "execution_count": 8,
   "metadata": {},
   "outputs": [],
   "source": [
    "sel[\"NORAD_CAT_ID\"].append(210)\n",
    "sel[\"NORAD_CAT_ID\"].append(120)\n",
    "\n",
    "sel[\"casa\"].append(210)\n",
    "sel[\"casa\"].append(120)\n",
    "\n",
    "sel[\"cac\"].append(110)\n",
    "sel[\"cac\"].append(1)"
   ]
  },
  {
   "cell_type": "code",
   "execution_count": 3,
   "metadata": {},
   "outputs": [
    {
     "data": {
      "text/plain": [
       "{'NORAD_CAT_ID': [210, 120], 'casa': [210, 120], 'cac': [110, 1]}"
      ]
     },
     "execution_count": 3,
     "metadata": {},
     "output_type": "execute_result"
    }
   ],
   "source": [
    "sel"
   ]
  },
  {
   "cell_type": "code",
   "execution_count": 11,
   "metadata": {},
   "outputs": [
    {
     "data": {
      "text/plain": [
       "dict_keys(['NORAD_CAT_ID', 'casa', 'cac'])"
      ]
     },
     "execution_count": 11,
     "metadata": {},
     "output_type": "execute_result"
    }
   ],
   "source": [
    "sel.keys()"
   ]
  },
  {
   "cell_type": "code",
   "execution_count": 12,
   "metadata": {},
   "outputs": [
    {
     "data": {
      "text/plain": [
       "dict_items([('NORAD_CAT_ID', [210, 120]), ('casa', [210, 120]), ('cac', [110, 1])])"
      ]
     },
     "execution_count": 12,
     "metadata": {},
     "output_type": "execute_result"
    }
   ],
   "source": [
    "sel.items()"
   ]
  },
  {
   "cell_type": "code",
   "execution_count": 16,
   "metadata": {},
   "outputs": [],
   "source": [
    "import pandas as pd\n",
    "df = pd.DataFrame(sel)"
   ]
  },
  {
   "cell_type": "code",
   "execution_count": 17,
   "metadata": {},
   "outputs": [
    {
     "data": {
      "text/html": [
       "<div>\n",
       "<style scoped>\n",
       "    .dataframe tbody tr th:only-of-type {\n",
       "        vertical-align: middle;\n",
       "    }\n",
       "\n",
       "    .dataframe tbody tr th {\n",
       "        vertical-align: top;\n",
       "    }\n",
       "\n",
       "    .dataframe thead th {\n",
       "        text-align: right;\n",
       "    }\n",
       "</style>\n",
       "<table border=\"1\" class=\"dataframe\">\n",
       "  <thead>\n",
       "    <tr style=\"text-align: right;\">\n",
       "      <th></th>\n",
       "      <th>NORAD_CAT_ID</th>\n",
       "      <th>casa</th>\n",
       "      <th>cac</th>\n",
       "    </tr>\n",
       "  </thead>\n",
       "  <tbody>\n",
       "    <tr>\n",
       "      <th>0</th>\n",
       "      <td>210</td>\n",
       "      <td>210</td>\n",
       "      <td>110</td>\n",
       "    </tr>\n",
       "    <tr>\n",
       "      <th>1</th>\n",
       "      <td>120</td>\n",
       "      <td>120</td>\n",
       "      <td>1</td>\n",
       "    </tr>\n",
       "  </tbody>\n",
       "</table>\n",
       "</div>"
      ],
      "text/plain": [
       "   NORAD_CAT_ID  casa  cac\n",
       "0           210   210  110\n",
       "1           120   120    1"
      ]
     },
     "execution_count": 17,
     "metadata": {},
     "output_type": "execute_result"
    }
   ],
   "source": [
    "df"
   ]
  }
 ],
 "metadata": {
  "kernelspec": {
   "display_name": "Python 3.10.4 ('orbit2prop')",
   "language": "python",
   "name": "python3"
  },
  "language_info": {
   "codemirror_mode": {
    "name": "ipython",
    "version": 3
   },
   "file_extension": ".py",
   "mimetype": "text/x-python",
   "name": "python",
   "nbconvert_exporter": "python",
   "pygments_lexer": "ipython3",
   "version": "3.10.4"
  },
  "orig_nbformat": 4,
  "vscode": {
   "interpreter": {
    "hash": "75a7af300593d40e5d074f5f77fc2893c8f5e02fd067d75ecfc4bf17b094a659"
   }
  }
 },
 "nbformat": 4,
 "nbformat_minor": 2
}
