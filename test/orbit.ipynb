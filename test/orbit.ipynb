{
 "cells": [
  {
   "cell_type": "markdown",
   "metadata": {},
   "source": [
    "# Melhorias em implementação:"
   ]
  },
  {
   "cell_type": "markdown",
   "metadata": {},
   "source": [
    "### Parte da classe atual ultrapassada:"
   ]
  },
  {
   "cell_type": "code",
   "execution_count": 222,
   "metadata": {},
   "outputs": [],
   "source": [
    "from sgp4.api import SGP4_ERRORS\n",
    "\n",
    "from astropy.coordinates import TEME, CartesianRepresentation  # CartesianDifferential\n",
    "from astropy import units as u\n",
    "from astropy.coordinates import ITRS\n",
    "\n",
    "import pymap3d as pm\n",
    "\n",
    "import pandas as pd\n",
    "from sgp4 import omm\n",
    "from sgp4.api import Satrec\n",
    "from astropy.time import Time\n",
    "from astropy.time import TimeDelta\n",
    "import time\n",
    "import numpy as np\n",
    "\n",
    "class PropagInit:\n",
    "    def __init__(self, satellite, lc, sample_time=1):\n",
    "        self.satellite = satellite\n",
    "        self.lc = lc\n",
    "        self.sample_time = sample_time\n",
    "\n",
    "        self.tempo = []\n",
    "        self.traj = []\n",
    "        self.dist = []\n",
    "        self.hdmin = []\n",
    "        self.dmin = []\n",
    "        self.hrmin = []\n",
    "\n",
    "\n",
    "    def orbit_propag(self, h0, n):\n",
    "        time_array = np.linspace(h0,h0 + TimeDelta((n -1)* u.s),n)\n",
    "        error_code, teme_p, teme_v = self.satellite.sgp4_array(time_array.jd1, time_array.jd2)\n",
    "        teme_p = np.array(teme_p)\n",
    "        x, y, z = teme_p[:,0], teme_p[:,1], teme_p[:,2]\n",
    "        teme_p = CartesianRepresentation(x*u.km, y*u.km, z*u.km)\n",
    "        teme = TEME(teme_p, obstime=time_array)  \n",
    "        itrsp = teme.transform_to(ITRS(obstime=time_array))\n",
    "        location = itrsp.earth_location\n",
    "        enu_p = pm.ecef2enu(1000 * location.x.value,\n",
    "                            1000 * location.y.value,\n",
    "                            1000 * location.z.value, self.lc.lat,\n",
    "                                    self.lc.lon, self.lc.height)\n",
    "\n",
    "        enu_p = np.transpose(enu_p)\n",
    "        enu_d = np.linalg.norm(enu_p,axis=1)\n",
    "        min_index = np.argmin(enu_d)\n",
    "        d_min = enu_d[min_index]\n",
    "        posit_min = enu_p[min_index]\n",
    "  \n",
    "        self.tempo.append(time_array)\n",
    "        self.traj.append(enu_p)\n",
    "        self.dist.append(enu_d)\n",
    "        self.hdmin.append(time_array[min_index])\n",
    "        self.dmin.append(d_min)\n",
    "        self.hrmin.append(min_index)\n",
    "        return self\n",
    "\n",
    "    def orbitpropag(self, t_inic, n):\n",
    "        tvar = t_inic\n",
    "\n",
    "        enu_dv = []\n",
    "        tv = []\n",
    "        enu_pv = []\n",
    "\n",
    "        tsample = self.sample_time\n",
    "\n",
    "        hr = 0\n",
    "\n",
    "        flagmin = True\n",
    "        hdmin = 0\n",
    "        dmin = 0\n",
    "        hrmin = 0\n",
    "\n",
    "        for i in range(0, n):\n",
    "            error_code, teme_p, teme_v = self.satellite.sgp4(tvar.jd1, tvar.jd2)\n",
    "            if error_code != 0:\n",
    "                # raise RuntimeError(SGP4_ERRORS[error_code])\n",
    "                print(\" SGP4_ERRORS: {}\\n\".format(SGP4_ERRORS[error_code]))\n",
    "                break\n",
    "            teme_p = CartesianRepresentation(teme_p * u.km)\n",
    "            teme = TEME(teme_p, obstime=tvar)  # ver diferença entre UT1 e UTC\n",
    "            itrsp = teme.transform_to(ITRS(obstime=tvar))\n",
    "            location = itrsp.earth_location\n",
    "            # location.geodetic\n",
    "            enu_p = pm.ecef2enu(1000 * location.x.value, 1000 * location.y.value, 1000 * location.z.value, self.lc.lat,\n",
    "                                self.lc.lon, self.lc.height)\n",
    "            enu_d = (enu_p[0] ** 2 + enu_p[1] ** 2 + enu_p[2] ** 2) ** 0.5\n",
    "            enu_dv.append(enu_d)\n",
    "            enu_pv.append(enu_p)\n",
    "            tv.append(tvar)\n",
    "\n",
    "            if (enu_dv[len(enu_dv) - 2] < enu_dv[len(enu_dv) - 1]) and flagmin:\n",
    "                print('NORAD: {} dmin= {:.3f}'.format(self.satellite.satnum, enu_dv[len(enu_dv) - 2]))\n",
    "                dmin = enu_dv[len(enu_dv) - 2]\n",
    "                hdmin = tvar - tsample / (60 * 60 * 24)\n",
    "                hrmin = hr - 1\n",
    "                flagmin = False\n",
    "\n",
    "            hr += 1\n",
    "            tvar += tsample / (60 * 60 * 24)\n",
    "            if hr == n:\n",
    "                self.tempo.append(tv)\n",
    "                self.traj.append(enu_pv)\n",
    "                self.dist.append(enu_dv)\n",
    "                self.hdmin.append(hdmin)\n",
    "                self.dmin.append(dmin)\n",
    "                self.hrmin.append(hrmin)\n",
    "        return self\n",
    "\n",
    "    def searchh0(self, t_inic, t_final, distmin, distmin2,  n):\n",
    "\n",
    "        enu_dv = []\n",
    "        tv = []\n",
    "        enu_pv = []\n",
    "        flagmin = True\n",
    "        ntraj = 0\n",
    "\n",
    "        tvar = t_inic\n",
    "\n",
    "        hr = 0\n",
    "        hrmin = 0\n",
    "\n",
    "        for i in range(0, n):\n",
    "            error_code, teme_p, teme_v = self.satellite.sgp4(tvar.jd1, tvar.jd2)\n",
    "            if error_code != 0:\n",
    "                # raise RuntimeError(SGP4_ERRORS[error_code])\n",
    "                print(\" SGP4_ERRORS: {}\\n\".format(SGP4_ERRORS[error_code]))\n",
    "                break\n",
    "            teme_p = CartesianRepresentation(teme_p * u.km)\n",
    "            teme = TEME(teme_p, obstime=tvar)  # ver diferença entre UT1 e UTC\n",
    "            itrsp = teme.transform_to(ITRS(obstime=tvar))\n",
    "            location = itrsp.earth_location\n",
    "            # location.geodetic\n",
    "            enu_p = pm.ecef2enu(1000 * location.x.value, 1000 * location.y.value, 1000 * location.z.value, self.lc.lat,\n",
    "                                self.lc.lon, self.lc.height)\n",
    "            enu_d = (enu_p[0]**2 + enu_p[1]**2 + enu_p[2]**2)**0.5\n",
    "\n",
    "            if enu_d > distmin:\n",
    "                tsample = round(1+abs((enu_d - distmin)/10000))\n",
    "                print(\"sample = {}\".format(tsample))\n",
    "                if not flagmin:\n",
    "                    flagmin = True\n",
    "                    self.tempo.append(tv)\n",
    "                    self.traj.append(enu_pv)\n",
    "                    self.dist.append(enu_dv)\n",
    "                    self.hdmin.append(hdmin)\n",
    "                    self.dmin.append(dmin)\n",
    "                    self.hrmin.append(hrmin)\n",
    "                    tv = []\n",
    "                    enu_pv = []\n",
    "                    enu_dv = []\n",
    "                hr = 0\n",
    "                hrmin = 0\n",
    "            else:\n",
    "                tsample = self.sample_time\n",
    "                tv.append(tvar)\n",
    "                enu_dv.append(enu_d)\n",
    "                enu_pv.append(enu_p)\n",
    "                # print('{} {:.3f}'.format(tvar.value, enu_d))\n",
    "                if (enu_dv[len(enu_dv)-2] < enu_dv[len(enu_dv)-1]) and flagmin:\n",
    "                    dmin = enu_dv[len(enu_dv) - 2]\n",
    "                    if dmin < distmin2:\n",
    "                        hdmin = tvar - TimeDelta(tsample * u.s)\n",
    "                        hrmin = hr - 1\n",
    "                        flagmin = False\n",
    "                        ntraj += 1\n",
    "                        print('NORAD: {}, H0: {}, dmin= {:.3f}'.format(self.satellite.satnum, tv[0].value, dmin))\n",
    "                    else:\n",
    "                        tsample = 60*5\n",
    "\n",
    "            hr += 1\n",
    "            tvar += TimeDelta(tsample * u.s) # tsample  / (60 * 60 * 24)\n",
    "\n",
    "            if tvar > t_final: # Time.strptime('2021-8-25 19:00:00', '%Y-%m-%d %H:%M:%S'):\n",
    "                print(\"fim loop\")\n",
    "                break\n",
    "        return self\n",
    "\n",
    "    def searchh01(self, t_inic, t_final, distmin, distmin2,  n):\n",
    "\n",
    "        enu_dv = []\n",
    "        tv = []\n",
    "        enu_pv = []\n",
    "        flagmin = True\n",
    "        ntraj = 0\n",
    "\n",
    "        tvar = t_inic\n",
    "\n",
    "        hr = 0\n",
    "        hrmin = 0\n",
    "\n",
    "        for i in range(0, n):\n",
    "            error_code, teme_p, teme_v = self.satellite.sgp4(tvar.jd1, tvar.jd2)\n",
    "            if error_code != 0:\n",
    "                # raise RuntimeError(SGP4_ERRORS[error_code])\n",
    "                print(\" SGP4_ERRORS: {}\\n\".format(SGP4_ERRORS[error_code]))\n",
    "                break\n",
    "            teme_p = CartesianRepresentation(teme_p * u.km)\n",
    "            teme = TEME(teme_p, obstime=tvar)  # ver diferença entre UT1 e UTC\n",
    "            itrsp = teme.transform_to(ITRS(obstime=tvar))\n",
    "            location = itrsp.earth_location\n",
    "            # location.geodetic\n",
    "            enu_p = pm.ecef2enu(1000 * location.x.value, 1000 * location.y.value, 1000 * location.z.value, self.lc.lat,\n",
    "                                self.lc.lon, self.lc.height)\n",
    "            enu_d = (enu_p[0]**2 + enu_p[1]**2 + enu_p[2]**2)**0.5\n",
    "\n",
    "            # if enu_d < distmin:\n",
    "            #     print('ok')\n",
    "            if (enu_d - distmin)>0:\n",
    "                tsample = round(5+abs(1*(enu_d - distmin)/8000))\n",
    "            else:\n",
    "                tsample = round(5+abs(2*(enu_d - distmin)/8000))            \n",
    "\n",
    "            print(\"sample = {}, dist = {}\".format(tsample,enu_d ))\n",
    "\n",
    "            tvar += TimeDelta(tsample * u.s) # tsample  / (60 * 60 * 24)\n",
    "\n",
    "            if tvar > t_final: # Time.strptime('2021-8-25 19:00:00', '%Y-%m-%d %H:%M:%S'):\n",
    "                print(\"fim loop\")\n",
    "                break\n",
    "        return self\n",
    "\n",
    "    def searchh02(self, t_inic, t_final, distmin, distmin2,  n):\n",
    "\n",
    "        enu_dv = []\n",
    "        tv = []\n",
    "        enu_pv = []\n",
    "        flagmin = True\n",
    "        ntraj = 0\n",
    "\n",
    "        sign = 1\n",
    "\n",
    "        tvar = t_inic\n",
    "\n",
    "        hr = 0\n",
    "        hrmin = 0\n",
    "\n",
    "        for i in range(0, n):\n",
    "            error_code, teme_p, teme_v = self.satellite.sgp4(tvar.jd1, tvar.jd2)\n",
    "            if error_code != 0:\n",
    "                # raise RuntimeError(SGP4_ERRORS[error_code])\n",
    "                print(\" SGP4_ERRORS: {}\\n\".format(SGP4_ERRORS[error_code]))\n",
    "                break\n",
    "            teme_p = CartesianRepresentation(teme_p * u.km)\n",
    "            teme = TEME(teme_p, obstime=tvar)  # ver diferença entre UT1 e UTC\n",
    "            itrsp = teme.transform_to(ITRS(obstime=tvar))\n",
    "            location = itrsp.earth_location\n",
    "            # location.geodetic\n",
    "            enu_p = pm.ecef2enu(1000 * location.x.value, 1000 * location.y.value, 1000 * location.z.value, self.lc.lat,\n",
    "                                self.lc.lon, self.lc.height)\n",
    "            enu_d = (enu_p[0]**2 + enu_p[1]**2 + enu_p[2]**2)**0.5\n",
    "\n",
    "            # if enu_d < distmin:\n",
    "            #     print('ok')\n",
    "            if (enu_d - distmin)>0:\n",
    "                tsample = sign * round(5+abs(1*(enu_d - distmin)/8000))\n",
    "            else:\n",
    "                tvar += TimeDelta(60*10 * u.s)\n",
    "                if sign > 0:  sign = -1\n",
    "                else: sign = 1                              \n",
    "\n",
    "            print(\"sample = {}, dist = {}\".format(tsample,enu_d ))\n",
    "\n",
    "            tvar += TimeDelta(tsample * u.s) # tsample  / (60 * 60 * 24)\n",
    "\n",
    "            if tvar > t_final: # Time.strptime('2021-8-25 19:00:00', '%Y-%m-%d %H:%M:%S'):\n",
    "                print(\"fim loop\")\n",
    "                break\n",
    "        return self\n",
    "\n",
    "    def pos_calc(self,tvar):\n",
    "        error_code, teme_p, teme_v = self.satellite.sgp4(tvar.jd1, tvar.jd2)\n",
    "        teme_p = CartesianRepresentation(teme_p * u.km)\n",
    "        teme = TEME(teme_p, obstime=tvar)  # ver diferença entre UT1 e UTC\n",
    "        itrsp = teme.transform_to(ITRS(obstime=tvar))\n",
    "        location = itrsp.earth_location\n",
    "        # location.geodetic\n",
    "        enu_p = pm.ecef2enu(1000 * location.x.value, 1000 * location.y.value, 1000 * location.z.value, self.lc.lat,\n",
    "                            self.lc.lon, self.lc.height)\n",
    "        enu_d = (enu_p[0]**2 + enu_p[1]**2 + enu_p[2]**2)**0.5\n",
    "        return enu_p, enu_d\n",
    "\n",
    "class LocalFrame:\n",
    "    def __init__(self, lat, lon, height):\n",
    "        self.lat = lat\n",
    "        self.lon = lon\n",
    "        self.height = height"
   ]
  },
  {
   "cell_type": "markdown",
   "metadata": {},
   "source": [
    "## Encontrar H0 atual:"
   ]
  },
  {
   "cell_type": "code",
   "execution_count": null,
   "metadata": {},
   "outputs": [],
   "source": [
    "\n",
    "\n",
    "orbital_elem = pd.read_csv(\"orbital_elem.csv\").to_dict('records')\n",
    "lc = LocalFrame(-5.923654, -35.167755, 50)\n",
    "\n",
    "satellite = Satrec()\n",
    "omm.initialize(satellite, orbital_elem[20])\n",
    "\n",
    "posit = PropagInit(satellite,lc)\n",
    "\n",
    "\n",
    "t_inic=Time('2022-08-10T00:00:00.000', format='isot', scale='utc')     # momento de inicio da busca\n",
    "t_final= Time('2022-08-12T00:00:00.000', format='isot', scale='utc')   # momento de parar a busca\n",
    "\n",
    "ini = time.time()\n",
    "posit.searchh02(t_inic, t_final, 1100*1000,  1000*1000,  10000)\n",
    "fim = time.time()\n",
    "print(\"Tempo: \", fim - ini)"
   ]
  },
  {
   "cell_type": "code",
   "execution_count": null,
   "metadata": {},
   "outputs": [],
   "source": [
    "posit.tempo"
   ]
  },
  {
   "cell_type": "code",
   "execution_count": 13,
   "metadata": {},
   "outputs": [
    {
     "data": {
      "text/plain": [
       "'1 41335U 16011A   22222.69171522  .00000046  00000-0  37168-4 0  9997'"
      ]
     },
     "execution_count": 13,
     "metadata": {},
     "output_type": "execute_result"
    }
   ],
   "source": [
    "orbital_elem[20]['TLE_LINE1']"
   ]
  },
  {
   "cell_type": "code",
   "execution_count": 15,
   "metadata": {},
   "outputs": [
    {
     "data": {
      "text/plain": [
       "'2 41335  98.6197 289.1969 0001170  98.9531 261.1782 14.26739266337507'"
      ]
     },
     "execution_count": 15,
     "metadata": {},
     "output_type": "execute_result"
    }
   ],
   "source": [
    "orbital_elem[20]['TLE_LINE2']"
   ]
  },
  {
   "cell_type": "markdown",
   "metadata": {},
   "source": [
    "## Melhoria Encontrar H0 rápido:"
   ]
  },
  {
   "cell_type": "code",
   "execution_count": 93,
   "metadata": {},
   "outputs": [
    {
     "name": "stdout",
     "output_type": "stream",
     "text": [
      "catalog #41335 epoch 2022-08-10 16:36:04 UTC\n",
      "Tempo:  0.0070002079010009766\n",
      "Tempo teme to enu:  0.016000032424926758\n"
     ]
    }
   ],
   "source": [
    "from skyfield.api import load, wgs84\n",
    "\n",
    "tles1 = load.tle_file('conftle.txt')\n",
    "\n",
    "#tles2 = load.tle_file()\n",
    "\n",
    "sat = tles1[0]\n",
    "print(sat)\n",
    "\n",
    "ini = time.time()\n",
    "\n",
    "ts = load.timescale()\n",
    "\n",
    "bluffton = wgs84.latlon(-5.92256, -35.1615)\n",
    "t0 = ts.utc(2022, 8, 10)\n",
    "t1 = ts.utc(2022, 8, 12)\n",
    "t, events = sat.find_events(bluffton, t0, t1, altitude_degrees=30.0)\n",
    "\n",
    "fim = time.time()\n",
    "print(\"Tempo: \", fim - ini)\n",
    "\n",
    "ini = time.time()\n",
    "for ti, event in zip(t, events):\n",
    "    #name = ('rise above 30°', 'culminate', 'set below 30°')[event]\n",
    "    #print(ti.utc_strftime('%Y-%m-%dT%H:%M:%S'), name)\n",
    "\n",
    "    tem = Time(ti.utc_strftime('%Y-%m-%dT%H:%M:%S'), format='isot')\n",
    "    enup, enud = posit.pos_calc(tem) ## Lento\n",
    "    #print(enup)\n",
    "fim = time.time()\n",
    "print(\"Tempo teme to enu: \", fim - ini)"
   ]
  },
  {
   "cell_type": "markdown",
   "metadata": {},
   "source": [
    "## Melhoria Código rápido de calculo trajetória:"
   ]
  },
  {
   "cell_type": "code",
   "execution_count": 95,
   "metadata": {},
   "outputs": [
    {
     "name": "stdout",
     "output_type": "stream",
     "text": [
      "Tempo:  0.003001689910888672\n"
     ]
    },
    {
     "data": {
      "text/plain": [
       "(array([   25466.06337329,  -234535.48500898,  -485454.81320164,\n",
       "         -878175.99713957, -1024634.30626479, -1164614.57977876,\n",
       "          780143.46398059,   540860.39993516,   290103.4642783 ]),\n",
       " array([ 1216598.09923688,    51033.27412469, -1116505.87515824,\n",
       "         -843261.56259651,  -250690.24273257,   343486.73060408,\n",
       "          927915.67102392,  -127756.80189316, -1188335.8860551 ]),\n",
       " array([700461.93302992, 802338.92532322, 704343.79299177, 704159.42803241,\n",
       "        729241.30021246, 702741.30093862, 701815.80867844, 785162.04318144,\n",
       "        703506.06784671]))"
      ]
     },
     "execution_count": 95,
     "metadata": {},
     "output_type": "execute_result"
    }
   ],
   "source": [
    "\n",
    "\n",
    "tem = Time(t.utc_strftime('%Y-%m-%dT%H:%M:%S'), format='isot')\n",
    "\n",
    "ini = time.time()\n",
    "\n",
    "error_code, teme_p, teme_v = satellite.sgp4_array(tem.jd1, tem.jd2)\n",
    "\n",
    "teme_p = np.array(teme_p)\n",
    "x, y, z = teme_p[:,0], teme_p[:,1], teme_p[:,2]\n",
    "\n",
    "teme_p = CartesianRepresentation(x*u.km, y*u.km, z*u.km)\n",
    "teme = TEME(teme_p, obstime=tem)  # ver diferença entre UT1 e UTC\n",
    "itrsp = teme.transform_to(ITRS(obstime=tem))\n",
    "location = itrsp.earth_location\n",
    "enu_p = pm.ecef2enu(1000 * location.x.value, 1000 * location.y.value, 1000 * location.z.value, lc.lat,\n",
    "                            lc.lon, lc.height)\n",
    "\n",
    "fim = time.time()\n",
    "print(\"Tempo: \", fim - ini)\n",
    "\n",
    "enu_p"
   ]
  },
  {
   "cell_type": "markdown",
   "metadata": {},
   "source": [
    "### Funcionando"
   ]
  },
  {
   "cell_type": "code",
   "execution_count": 262,
   "metadata": {},
   "outputs": [
    {
     "name": "stdout",
     "output_type": "stream",
     "text": [
      "Tempo:  0.0039975643157958984\n"
     ]
    }
   ],
   "source": [
    "import numpy as np\n",
    "orbital_elem = pd.read_csv(\"traj_data.csv\").to_dict('records')\n",
    "lc = LocalFrame(-5.923654, -35.167755, 50)\n",
    "\n",
    "usecols = ['NORAD_CAT_ID', 'H0', 'N_PT']\n",
    "df_conf = pd.read_csv(\"traj_data.csv\",usecols=usecols)\n",
    "\n",
    "# df_conf = pd.read_csv(\"traj_data.csv\")\n",
    "\n",
    "ini = time.time()\n",
    "\n",
    "for index, row in df_conf.iterrows():\n",
    "    satellite = Satrec()\n",
    "    omm.initialize(satellite, orbital_elem[index])\n",
    "    h0 = Time(row['H0'], format='isot')\n",
    "    time_array = np.linspace(h0,h0 + TimeDelta((row['N_PT'] -1)* u.s),row['N_PT'])\n",
    "\n",
    "    error_code, teme_p, teme_v = satellite.sgp4_array(time_array.jd1, time_array.jd2)\n",
    "    teme_p = np.array(teme_p)\n",
    "    x, y, z = teme_p[:,0], teme_p[:,1], teme_p[:,2]\n",
    "\n",
    "    teme_p = CartesianRepresentation(x*u.km, y*u.km, z*u.km)\n",
    "    teme = TEME(teme_p, obstime=time_array)  \n",
    "    itrsp = teme.transform_to(ITRS(obstime=time_array))\n",
    "    location = itrsp.earth_location\n",
    "    enu_p = pm.ecef2enu(1000 * location.x.value, 1000 * location.y.value, 1000 * location.z.value, lc.lat,\n",
    "                                lc.lon, lc.height)\n",
    "\n",
    "    enu_p = np.transpose(enu_p)\n",
    "    #enu_p = np.reshape(np.asarray(enu_p), (row['N_PT'], 3)) \n",
    "    enu_d = np.linalg.norm(enu_p,axis=1)\n",
    "    min_index = np.argmin(enu_d)\n",
    "    d_min = enu_d[min_index]\n",
    "    posit_min = enu_p[min_index]\n",
    "    \n",
    "    break\n",
    "\n",
    "fim = time.time()\n",
    "print(\"Tempo: \", fim - ini)\n",
    "\n",
    "# print(enu_d)\n",
    "\n"
   ]
  },
  {
   "cell_type": "code",
   "execution_count": 263,
   "metadata": {},
   "outputs": [
    {
     "data": {
      "text/plain": [
       "(233, 3)"
      ]
     },
     "execution_count": 263,
     "metadata": {},
     "output_type": "execute_result"
    }
   ],
   "source": [
    "np.shape(enu_p)"
   ]
  },
  {
   "cell_type": "code",
   "execution_count": 264,
   "metadata": {},
   "outputs": [
    {
     "data": {
      "text/plain": [
       "array([-623507.73004444, -534606.09316655,  729029.18855509])"
      ]
     },
     "execution_count": 264,
     "metadata": {},
     "output_type": "execute_result"
    }
   ],
   "source": [
    "enu_p[0]"
   ]
  },
  {
   "cell_type": "code",
   "execution_count": 265,
   "metadata": {},
   "outputs": [
    {
     "data": {
      "text/plain": [
       "array([1098202.6780341 , 1093516.98920657, 1088851.52577009,\n",
       "       1084206.55366501, 1079582.34221243, 1074979.16413473,\n",
       "       1070397.29557609, 1065837.01612143, 1061298.60881421,\n",
       "       1056782.360173  , 1052288.56020608, 1047817.50242535,\n",
       "       1043369.48385789, 1038944.80505603, 1034543.77010669,\n",
       "       1030166.68663626, 1025813.86581662, 1021485.62236743,\n",
       "       1017182.27455522, 1012904.14419359, 1008651.55663674,\n",
       "       1004424.8407744 , 1000224.32902084,  996050.35730444,\n",
       "        991903.26505141,  987783.39516848,  983691.09402198,\n",
       "        979626.71141369,  975590.60055296,  971583.11802678,\n",
       "        967604.62376432,  963655.48099958,  959736.05622872,\n",
       "        955846.71916548,  951987.84268969,  948159.80279427,\n",
       "        944362.97852646,  940597.75192455,  936864.50795125,\n",
       "        933163.6344205 ,  929495.52192177,  925860.5637364 ,\n",
       "        922259.15575212,  918691.69637043,  915158.58640865,\n",
       "        911660.22899769,  908197.02947307,  904769.39526156,\n",
       "        901377.73576099,  898022.4622151 ,  894703.98758204,\n",
       "        891422.72639712,  888179.09462982,  884973.50953408,\n",
       "        881806.38949301,  878678.15385767,  875589.2227785 ,\n",
       "        872540.01703258,  869530.95784248,  866562.4666905 ,\n",
       "        863634.96512599,  860748.87456699,  857904.61609567,\n",
       "        855102.61024722,  852343.27679408,  849627.03452272,\n",
       "        846954.30100619,  844325.49236992,  841741.02305302,\n",
       "        839201.30556396,  836706.75023078,  834257.764947  ,\n",
       "        831854.75491274,  829498.12237104,  827188.26634096,\n",
       "        824925.58234571,  822710.46213772,  820543.29342086,\n",
       "        818424.45956942,  816354.33934422,  814333.30660696,\n",
       "        812361.73003321,  810439.972823  ,  808568.39241158,\n",
       "        806747.34017893,  804977.16115971,  803258.19375365,\n",
       "        801590.7694366 ,  799975.21247366,  798411.83963327,\n",
       "        796900.95990509,  795442.87421982,  794037.87517317,\n",
       "        792686.24675387,  791388.26407624,  790144.19311787,\n",
       "        788954.29046326,  787818.80305373,  786737.967944  ,\n",
       "        785712.01206622,  784741.15200206,  783825.5937628 ,\n",
       "        782965.53257875,  782161.15269786,  781412.62719412,\n",
       "        780720.11778652,  780083.77466849,  779503.73634874,\n",
       "        778980.12950349,  778513.06884067,  778102.65697647,\n",
       "        777748.98432422,  777452.12899642,  777212.15671955,\n",
       "        777029.12076239,  776903.06187779,  776834.00825796,\n",
       "        776821.97550371,  776866.96660729,  776968.97194929,\n",
       "        777127.96930937,  777343.92389065,  777616.78835834,\n",
       "        777946.50289154,  778332.99524889,  778776.18084766,\n",
       "        779275.96285577,  779832.23229713,  780444.8681692 ,\n",
       "        781113.73757342,  781838.69585753,  782619.58676936,\n",
       "        783456.24262246,  784348.48447211,  785296.12230256,\n",
       "        786298.95522343,  787356.77167671,  788469.34965212,\n",
       "        789636.45691123,  790857.85122023,  792133.28058977,\n",
       "        793462.48352195,  794845.18926408,  796281.11806804,\n",
       "        797769.98145572,  799311.48248865,  800905.31604256,\n",
       "        802551.16908529,  804248.7209583 ,  805997.64366127,\n",
       "        807797.60213765,  809648.25456348,  811549.25263602,\n",
       "        813500.24186455,  815500.86185991,  817550.74662447,\n",
       "        819649.52484179,  821796.82016423,  823992.25149979,\n",
       "        826235.4332965 ,  828525.97582468,  830863.4854563 ,\n",
       "        833247.5649415 ,  835677.81368136,  838153.82799714,\n",
       "        840675.201396  ,  843241.52483122,  845852.38695922,\n",
       "        848507.37439087,  851206.07193813,  853948.06285597,\n",
       "        856732.92907774,  859560.25144681,  862429.60994054,\n",
       "        865340.58388988,  868292.75219316,  871285.69352245,\n",
       "        874318.98652588,  877392.21002189,  880504.9431894 ,\n",
       "        883656.76574963,  886847.25814345,  890076.00170193,\n",
       "        893342.57880995,  896646.57306586,  899987.5694318 ,\n",
       "        903365.15438128,  906778.9160381 ,  910228.44431085,\n",
       "        913713.33102085,  917233.17002437,  920787.55732955,\n",
       "        924376.09120703,  927998.37229505,  931654.0037003 ,\n",
       "        935342.59109124,  939063.74278864,  942817.0698488 ,\n",
       "        946602.1861435 ,  950418.70843421,  954266.25644117,\n",
       "        958144.45290938,  962052.92366801,  965991.29768684,\n",
       "        969959.20712851,  973956.28739565,  977982.17717494,\n",
       "        982036.51847685,  986118.95667155,  990229.14052139,\n",
       "        994366.72221065,  998531.35737027, 1002722.70510029,\n",
       "       1006940.42798994, 1011184.19213283, 1015453.66714135,\n",
       "       1019748.52615643, 1024068.44585637, 1028413.10646174,\n",
       "       1032782.19173831, 1037175.38899829, 1041592.38909812,\n",
       "       1046032.88643553, 1050496.5789436 , 1054983.16808311,\n",
       "       1059492.3588335 , 1064023.85968105, 1068577.38260717,\n",
       "       1073152.64307332, 1077749.36000565, 1082367.25577771,\n",
       "       1087006.05619218, 1091665.49046098])"
      ]
     },
     "execution_count": 265,
     "metadata": {},
     "output_type": "execute_result"
    }
   ],
   "source": [
    "np.linalg.norm(enu_p,axis=1)"
   ]
  },
  {
   "cell_type": "code",
   "execution_count": 238,
   "metadata": {},
   "outputs": [
    {
     "data": {
      "text/plain": [
       "(233, 3)"
      ]
     },
     "execution_count": 238,
     "metadata": {},
     "output_type": "execute_result"
    }
   ],
   "source": [
    "np.shape(enu_p)\n"
   ]
  },
  {
   "cell_type": "code",
   "execution_count": 237,
   "metadata": {},
   "outputs": [
    {
     "data": {
      "text/plain": [
       "(233,)"
      ]
     },
     "execution_count": 237,
     "metadata": {},
     "output_type": "execute_result"
    }
   ],
   "source": [
    "np.shape(enu_d)\n"
   ]
  },
  {
   "cell_type": "code",
   "execution_count": 211,
   "metadata": {},
   "outputs": [
    {
     "data": {
      "text/plain": [
       "13684736.927059043"
      ]
     },
     "execution_count": 211,
     "metadata": {},
     "output_type": "execute_result"
    }
   ],
   "source": [
    "enu_d"
   ]
  },
  {
   "cell_type": "code",
   "execution_count": 151,
   "metadata": {},
   "outputs": [
    {
     "name": "stdout",
     "output_type": "stream",
     "text": [
      "NORAD: 2142 dmin= 776821.976\n",
      "Tempo:  0.39698338508605957\n"
     ]
    },
    {
     "name": "stderr",
     "output_type": "stream",
     "text": [
      "WARNING: TimeDeltaMissingUnitWarning: Numerical value without unit or explicit format passed to TimeDelta, assuming days [astropy.time.core]\n"
     ]
    }
   ],
   "source": [
    "import numpy as np\n",
    "orbital_elem = pd.read_csv(\"traj_data.csv\").to_dict('records')\n",
    "lc = LocalFrame(-5.923654, -35.167755, 50)\n",
    "\n",
    "usecols = ['NORAD_CAT_ID', 'H0', 'N_PT']\n",
    "df_conf = pd.read_csv(\"traj_data.csv\",usecols=usecols)\n",
    "\n",
    "# df_conf = pd.read_csv(\"traj_data.csv\")\n",
    "\n",
    "ini = time.time()\n",
    "\n",
    "for index, row in df_conf.iterrows():\n",
    "    satellite = Satrec()\n",
    "    orbital_elem_row = next(x for x in orbital_elem if x[\"NORAD_CAT_ID\"] == row['NORAD_CAT_ID'])\n",
    "    omm.initialize(satellite, orbital_elem_row)\n",
    "    propag = PropagInit(satellite, lc, 1) \n",
    "    pos = propag.orbitpropag(Time(row['H0'], format='isot'),row['N_PT'])\n",
    "    \n",
    "    break\n",
    "\n",
    "fim = time.time()\n",
    "print(\"Tempo: \", fim - ini)\n"
   ]
  },
  {
   "cell_type": "code",
   "execution_count": 232,
   "metadata": {},
   "outputs": [
    {
     "name": "stdout",
     "output_type": "stream",
     "text": [
      "Tempo:  0.0039997100830078125\n"
     ]
    }
   ],
   "source": [
    "import numpy as np\n",
    "orbital_elem = pd.read_csv(\"traj_data.csv\").to_dict('records')\n",
    "lc = LocalFrame(-5.923654, -35.167755, 50)\n",
    "\n",
    "usecols = ['NORAD_CAT_ID', 'H0', 'N_PT']\n",
    "df_conf = pd.read_csv(\"traj_data.csv\",usecols=usecols)\n",
    "\n",
    "# df_conf = pd.read_csv(\"traj_data.csv\")\n",
    "\n",
    "ini = time.time()\n",
    "sdf = SummarizeDataFiles()\n",
    "for index, row in df_conf.iterrows():\n",
    "    satellite = Satrec()\n",
    "    orbital_elem_row = next(x for x in orbital_elem if x[\"NORAD_CAT_ID\"] == row['NORAD_CAT_ID'])\n",
    "    omm.initialize(satellite, orbital_elem_row)\n",
    "    propag = PropagInit(satellite, lc, 1) \n",
    "    pos = propag.orbit_propag(Time(row['H0'], format='isot'),row['N_PT'])\n",
    "    sdf.save_trajectories(pos,orbital_elem_row)\n",
    "    break\n",
    "\n",
    "fim = time.time()\n",
    "print(\"Tempo: \", fim - ini)"
   ]
  },
  {
   "cell_type": "code",
   "execution_count": 200,
   "metadata": {},
   "outputs": [
    {
     "data": {
      "text/plain": [
       "(1, 3)"
      ]
     },
     "execution_count": 200,
     "metadata": {},
     "output_type": "execute_result"
    }
   ],
   "source": [
    "np.shape(pos.dist )\n"
   ]
  },
  {
   "cell_type": "code",
   "execution_count": 231,
   "metadata": {},
   "outputs": [],
   "source": [
    "class SummarizeDataFiles:\n",
    "    def __init__(self):\n",
    "        self.sel_orbital_elem = []\n",
    "        self.sel_resume = { \"H0\":[], \"DIST_H0\":[],\"H_DIST_MIN\":[],\"PT_DIST_MIN\":[],\n",
    "                    \"DIST_MIN\":[],\"HF\":[], \"N_PT\":[], \"DIST_HF\":[],\"RCS\":[] }\n",
    "\n",
    "    def save_trajectories(self,pos,orbital_elem): \n",
    "        for i in range(0, len(pos.traj)):\n",
    "            tempo = pos.tempo[i]\n",
    "            posenu = pos.traj[i]\n",
    "            distenu = pos.dist[i]\n",
    "            \n",
    "            ttxt = tempo[0].strftime('%Y_%m_%d-H0-%H_%M_%S')\n",
    "\n",
    "            # Summarized data set of the trajectories obtained\n",
    "            self.sel_orbital_elem.append(orbital_elem) \n",
    "\n",
    "            self.sel_resume[\"RCS\"].append(orbital_elem['RCS_SIZE'])\n",
    "            self.sel_resume[\"H0\"].append(tempo[0].value)\n",
    "            self.sel_resume[\"DIST_H0\"].append(distenu[0])\n",
    "            self.sel_resume[\"H_DIST_MIN\"].append(pos.hdmin[i].value[11:])\n",
    "            self.sel_resume[\"PT_DIST_MIN\"].append(pos.hrmin[i])\n",
    "            self.sel_resume[\"DIST_MIN\"].append(pos.dmin[i])\n",
    "            self.sel_resume[\"HF\"].append(tempo[len(tempo) - 1].value[11:])\n",
    "            self.sel_resume[\"N_PT\"].append(len(distenu) - 1)\n",
    "            self.sel_resume[\"DIST_HF\"].append(distenu[len(distenu) - 1]) "
   ]
  },
  {
   "cell_type": "code",
   "execution_count": 233,
   "metadata": {},
   "outputs": [
    {
     "data": {
      "text/plain": [
       "{'H0': ['2022-08-06T12:30:39.000'],\n",
       " 'DIST_H0': [1070257.5070111575],\n",
       " 'H_DIST_MIN': ['12:32:39.000'],\n",
       " 'PT_DIST_MIN': [120],\n",
       " 'DIST_MIN': [11266.620239357559],\n",
       " 'HF': ['12:34:31.000'],\n",
       " 'N_PT': [232],\n",
       " 'DIST_HF': [1261516.725177206],\n",
       " 'RCS': ['LARGE']}"
      ]
     },
     "execution_count": 233,
     "metadata": {},
     "output_type": "execute_result"
    }
   ],
   "source": [
    "sdf.sel_resume"
   ]
  }
 ],
 "metadata": {
  "kernelspec": {
   "display_name": "Python 3.10.4 ('orbit2prop')",
   "language": "python",
   "name": "python3"
  },
  "language_info": {
   "codemirror_mode": {
    "name": "ipython",
    "version": 3
   },
   "file_extension": ".py",
   "mimetype": "text/x-python",
   "name": "python",
   "nbconvert_exporter": "python",
   "pygments_lexer": "ipython3",
   "version": "3.10.4"
  },
  "orig_nbformat": 4,
  "vscode": {
   "interpreter": {
    "hash": "75a7af300593d40e5d074f5f77fc2893c8f5e02fd067d75ecfc4bf17b094a659"
   }
  }
 },
 "nbformat": 4,
 "nbformat_minor": 2
}
