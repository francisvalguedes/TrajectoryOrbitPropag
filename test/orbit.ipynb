{
 "cells": [
  {
   "cell_type": "code",
   "execution_count": 42,
   "metadata": {},
   "outputs": [],
   "source": [
    "from sgp4.api import SGP4_ERRORS\n",
    "\n",
    "from astropy.coordinates import TEME, CartesianRepresentation  # CartesianDifferential\n",
    "from astropy import units as u\n",
    "from astropy.coordinates import ITRS\n",
    "\n",
    "import pymap3d as pm\n",
    "\n",
    "import pandas as pd\n",
    "from sgp4 import omm\n",
    "from sgp4.api import Satrec\n",
    "from astropy.time import Time\n",
    "from astropy.time import TimeDelta\n",
    "import time\n",
    "import numpy as np\n",
    "\n",
    "class PropagInit:\n",
    "    def __init__(self, satellite, lc, sample_time=1):\n",
    "        self.satellite = satellite\n",
    "        self.lc = lc\n",
    "        self.sample_time = sample_time\n",
    "\n",
    "        self.tempo = []\n",
    "        self.traj = []\n",
    "        self.dist = []\n",
    "        self.hdmin = []\n",
    "        self.dmin = []\n",
    "        self.hrmin = []\n",
    "\n",
    "    def searchh0(self, t_inic, t_final, distmin, distmin2,  n):\n",
    "\n",
    "        enu_dv = []\n",
    "        tv = []\n",
    "        enu_pv = []\n",
    "        flagmin = True\n",
    "        ntraj = 0\n",
    "\n",
    "        tvar = t_inic\n",
    "\n",
    "        hr = 0\n",
    "        hrmin = 0\n",
    "\n",
    "        for i in range(0, n):\n",
    "            error_code, teme_p, teme_v = self.satellite.sgp4(tvar.jd1, tvar.jd2)\n",
    "            if error_code != 0:\n",
    "                # raise RuntimeError(SGP4_ERRORS[error_code])\n",
    "                print(\" SGP4_ERRORS: {}\\n\".format(SGP4_ERRORS[error_code]))\n",
    "                break\n",
    "            teme_p = CartesianRepresentation(teme_p * u.km)\n",
    "            teme = TEME(teme_p, obstime=tvar)  # ver diferença entre UT1 e UTC\n",
    "            itrsp = teme.transform_to(ITRS(obstime=tvar))\n",
    "            location = itrsp.earth_location\n",
    "            # location.geodetic\n",
    "            enu_p = pm.ecef2enu(1000 * location.x.value, 1000 * location.y.value, 1000 * location.z.value, self.lc.lat,\n",
    "                                self.lc.lon, self.lc.height)\n",
    "            enu_d = (enu_p[0]**2 + enu_p[1]**2 + enu_p[2]**2)**0.5\n",
    "\n",
    "            if enu_d > distmin:\n",
    "                tsample = round(1+abs((enu_d - distmin)/10000))\n",
    "                print(\"sample = {}\".format(tsample))\n",
    "                if not flagmin:\n",
    "                    flagmin = True\n",
    "                    self.tempo.append(tv)\n",
    "                    self.traj.append(enu_pv)\n",
    "                    self.dist.append(enu_dv)\n",
    "                    self.hdmin.append(hdmin)\n",
    "                    self.dmin.append(dmin)\n",
    "                    self.hrmin.append(hrmin)\n",
    "                    tv = []\n",
    "                    enu_pv = []\n",
    "                    enu_dv = []\n",
    "                hr = 0\n",
    "                hrmin = 0\n",
    "            else:\n",
    "                tsample = self.sample_time\n",
    "                tv.append(tvar)\n",
    "                enu_dv.append(enu_d)\n",
    "                enu_pv.append(enu_p)\n",
    "                # print('{} {:.3f}'.format(tvar.value, enu_d))\n",
    "                if (enu_dv[len(enu_dv)-2] < enu_dv[len(enu_dv)-1]) and flagmin:\n",
    "                    dmin = enu_dv[len(enu_dv) - 2]\n",
    "                    if dmin < distmin2:\n",
    "                        hdmin = tvar - TimeDelta(tsample * u.s)\n",
    "                        hrmin = hr - 1\n",
    "                        flagmin = False\n",
    "                        ntraj += 1\n",
    "                        print('NORAD: {}, H0: {}, dmin= {:.3f}'.format(self.satellite.satnum, tv[0].value, dmin))\n",
    "                    else:\n",
    "                        tsample = 60*5\n",
    "\n",
    "            hr += 1\n",
    "            tvar += TimeDelta(tsample * u.s) # tsample  / (60 * 60 * 24)\n",
    "\n",
    "            if tvar > t_final: # Time.strptime('2021-8-25 19:00:00', '%Y-%m-%d %H:%M:%S'):\n",
    "                print(\"fim loop\")\n",
    "                break\n",
    "        return self\n",
    "\n",
    "    def searchh01(self, t_inic, t_final, distmin, distmin2,  n):\n",
    "\n",
    "        enu_dv = []\n",
    "        tv = []\n",
    "        enu_pv = []\n",
    "        flagmin = True\n",
    "        ntraj = 0\n",
    "\n",
    "        tvar = t_inic\n",
    "\n",
    "        hr = 0\n",
    "        hrmin = 0\n",
    "\n",
    "        for i in range(0, n):\n",
    "            error_code, teme_p, teme_v = self.satellite.sgp4(tvar.jd1, tvar.jd2)\n",
    "            if error_code != 0:\n",
    "                # raise RuntimeError(SGP4_ERRORS[error_code])\n",
    "                print(\" SGP4_ERRORS: {}\\n\".format(SGP4_ERRORS[error_code]))\n",
    "                break\n",
    "            teme_p = CartesianRepresentation(teme_p * u.km)\n",
    "            teme = TEME(teme_p, obstime=tvar)  # ver diferença entre UT1 e UTC\n",
    "            itrsp = teme.transform_to(ITRS(obstime=tvar))\n",
    "            location = itrsp.earth_location\n",
    "            # location.geodetic\n",
    "            enu_p = pm.ecef2enu(1000 * location.x.value, 1000 * location.y.value, 1000 * location.z.value, self.lc.lat,\n",
    "                                self.lc.lon, self.lc.height)\n",
    "            enu_d = (enu_p[0]**2 + enu_p[1]**2 + enu_p[2]**2)**0.5\n",
    "\n",
    "            # if enu_d < distmin:\n",
    "            #     print('ok')\n",
    "            if (enu_d - distmin)>0:\n",
    "                tsample = round(5+abs(1*(enu_d - distmin)/8000))\n",
    "            else:\n",
    "                tsample = round(5+abs(2*(enu_d - distmin)/8000))            \n",
    "\n",
    "            print(\"sample = {}, dist = {}\".format(tsample,enu_d ))\n",
    "\n",
    "            tvar += TimeDelta(tsample * u.s) # tsample  / (60 * 60 * 24)\n",
    "\n",
    "            if tvar > t_final: # Time.strptime('2021-8-25 19:00:00', '%Y-%m-%d %H:%M:%S'):\n",
    "                print(\"fim loop\")\n",
    "                break\n",
    "        return self\n",
    "\n",
    "    def searchh02(self, t_inic, t_final, distmin, distmin2,  n):\n",
    "\n",
    "        enu_dv = []\n",
    "        tv = []\n",
    "        enu_pv = []\n",
    "        flagmin = True\n",
    "        ntraj = 0\n",
    "\n",
    "        sign = 1\n",
    "\n",
    "        tvar = t_inic\n",
    "\n",
    "        hr = 0\n",
    "        hrmin = 0\n",
    "\n",
    "        for i in range(0, n):\n",
    "            error_code, teme_p, teme_v = self.satellite.sgp4(tvar.jd1, tvar.jd2)\n",
    "            if error_code != 0:\n",
    "                # raise RuntimeError(SGP4_ERRORS[error_code])\n",
    "                print(\" SGP4_ERRORS: {}\\n\".format(SGP4_ERRORS[error_code]))\n",
    "                break\n",
    "            teme_p = CartesianRepresentation(teme_p * u.km)\n",
    "            teme = TEME(teme_p, obstime=tvar)  # ver diferença entre UT1 e UTC\n",
    "            itrsp = teme.transform_to(ITRS(obstime=tvar))\n",
    "            location = itrsp.earth_location\n",
    "            # location.geodetic\n",
    "            enu_p = pm.ecef2enu(1000 * location.x.value, 1000 * location.y.value, 1000 * location.z.value, self.lc.lat,\n",
    "                                self.lc.lon, self.lc.height)\n",
    "            enu_d = (enu_p[0]**2 + enu_p[1]**2 + enu_p[2]**2)**0.5\n",
    "\n",
    "            # if enu_d < distmin:\n",
    "            #     print('ok')\n",
    "            if (enu_d - distmin)>0:\n",
    "                tsample = sign * round(5+abs(1*(enu_d - distmin)/8000))\n",
    "            else:\n",
    "                tvar += TimeDelta(60*10 * u.s)\n",
    "                if sign > 0:  sign = -1\n",
    "                else: sign = 1                              \n",
    "\n",
    "            print(\"sample = {}, dist = {}\".format(tsample,enu_d ))\n",
    "\n",
    "            tvar += TimeDelta(tsample * u.s) # tsample  / (60 * 60 * 24)\n",
    "\n",
    "            if tvar > t_final: # Time.strptime('2021-8-25 19:00:00', '%Y-%m-%d %H:%M:%S'):\n",
    "                print(\"fim loop\")\n",
    "                break\n",
    "        return self\n",
    "\n",
    "    def pos_calc(self,tvar):\n",
    "        error_code, teme_p, teme_v = self.satellite.sgp4(tvar.jd1, tvar.jd2)\n",
    "        teme_p = CartesianRepresentation(teme_p * u.km)\n",
    "        teme = TEME(teme_p, obstime=tvar)  # ver diferença entre UT1 e UTC\n",
    "        itrsp = teme.transform_to(ITRS(obstime=tvar))\n",
    "        location = itrsp.earth_location\n",
    "        # location.geodetic\n",
    "        enu_p = pm.ecef2enu(1000 * location.x.value, 1000 * location.y.value, 1000 * location.z.value, self.lc.lat,\n",
    "                            self.lc.lon, self.lc.height)\n",
    "        enu_d = (enu_p[0]**2 + enu_p[1]**2 + enu_p[2]**2)**0.5\n",
    "        return enu_p, enu_d\n",
    "\n",
    "class LocalFrame:\n",
    "    def __init__(self, lat, lon, height):\n",
    "        self.lat = lat\n",
    "        self.lon = lon\n",
    "        self.height = height"
   ]
  },
  {
   "cell_type": "markdown",
   "metadata": {},
   "source": [
    "## Encontrar H0 atual:"
   ]
  },
  {
   "cell_type": "code",
   "execution_count": null,
   "metadata": {},
   "outputs": [],
   "source": [
    "\n",
    "\n",
    "orbital_elem = pd.read_csv(\"orbital_elem.csv\").to_dict('records')\n",
    "lc = LocalFrame(-5.923654, -35.167755, 50)\n",
    "\n",
    "satellite = Satrec()\n",
    "omm.initialize(satellite, orbital_elem[20])\n",
    "\n",
    "posit = PropagInit(satellite,lc)\n",
    "\n",
    "\n",
    "t_inic=Time('2022-08-10T00:00:00.000', format='isot', scale='utc')     # momento de inicio da busca\n",
    "t_final= Time('2022-08-12T00:00:00.000', format='isot', scale='utc')   # momento de parar a busca\n",
    "\n",
    "ini = time.time()\n",
    "posit.searchh02(t_inic, t_final, 1100*1000,  1000*1000,  10000)\n",
    "fim = time.time()\n",
    "print(\"Tempo: \", fim - ini)"
   ]
  },
  {
   "cell_type": "code",
   "execution_count": null,
   "metadata": {},
   "outputs": [],
   "source": [
    "posit.tempo"
   ]
  },
  {
   "cell_type": "code",
   "execution_count": 13,
   "metadata": {},
   "outputs": [
    {
     "data": {
      "text/plain": [
       "'1 41335U 16011A   22222.69171522  .00000046  00000-0  37168-4 0  9997'"
      ]
     },
     "execution_count": 13,
     "metadata": {},
     "output_type": "execute_result"
    }
   ],
   "source": [
    "orbital_elem[20]['TLE_LINE1']"
   ]
  },
  {
   "cell_type": "code",
   "execution_count": 15,
   "metadata": {},
   "outputs": [
    {
     "data": {
      "text/plain": [
       "'2 41335  98.6197 289.1969 0001170  98.9531 261.1782 14.26739266337507'"
      ]
     },
     "execution_count": 15,
     "metadata": {},
     "output_type": "execute_result"
    }
   ],
   "source": [
    "orbital_elem[20]['TLE_LINE2']"
   ]
  },
  {
   "cell_type": "markdown",
   "metadata": {},
   "source": [
    "## Encontrar H0 rápido:"
   ]
  },
  {
   "cell_type": "code",
   "execution_count": 93,
   "metadata": {},
   "outputs": [
    {
     "name": "stdout",
     "output_type": "stream",
     "text": [
      "catalog #41335 epoch 2022-08-10 16:36:04 UTC\n",
      "Tempo:  0.0070002079010009766\n",
      "Tempo teme to enu:  0.016000032424926758\n"
     ]
    }
   ],
   "source": [
    "from skyfield.api import load, wgs84\n",
    "\n",
    "tles1 = load.tle_file('conftle.txt')\n",
    "\n",
    "#tles2 = load.tle_file()\n",
    "\n",
    "sat = tles1[0]\n",
    "print(sat)\n",
    "\n",
    "ini = time.time()\n",
    "\n",
    "ts = load.timescale()\n",
    "\n",
    "bluffton = wgs84.latlon(-5.92256, -35.1615)\n",
    "t0 = ts.utc(2022, 8, 10)\n",
    "t1 = ts.utc(2022, 8, 12)\n",
    "t, events = sat.find_events(bluffton, t0, t1, altitude_degrees=30.0)\n",
    "\n",
    "fim = time.time()\n",
    "print(\"Tempo: \", fim - ini)\n",
    "\n",
    "ini = time.time()\n",
    "for ti, event in zip(t, events):\n",
    "    #name = ('rise above 30°', 'culminate', 'set below 30°')[event]\n",
    "    #print(ti.utc_strftime('%Y-%m-%dT%H:%M:%S'), name)\n",
    "\n",
    "    tem = Time(ti.utc_strftime('%Y-%m-%dT%H:%M:%S'), format='isot')\n",
    "    enup, enud = posit.pos_calc(tem) ## Lento\n",
    "    #print(enup)\n",
    "fim = time.time()\n",
    "print(\"Tempo teme to enu: \", fim - ini)"
   ]
  },
  {
   "cell_type": "markdown",
   "metadata": {},
   "source": [
    "## Código Rápido:"
   ]
  },
  {
   "cell_type": "code",
   "execution_count": 95,
   "metadata": {},
   "outputs": [
    {
     "name": "stdout",
     "output_type": "stream",
     "text": [
      "Tempo:  0.003001689910888672\n"
     ]
    },
    {
     "data": {
      "text/plain": [
       "(array([   25466.06337329,  -234535.48500898,  -485454.81320164,\n",
       "         -878175.99713957, -1024634.30626479, -1164614.57977876,\n",
       "          780143.46398059,   540860.39993516,   290103.4642783 ]),\n",
       " array([ 1216598.09923688,    51033.27412469, -1116505.87515824,\n",
       "         -843261.56259651,  -250690.24273257,   343486.73060408,\n",
       "          927915.67102392,  -127756.80189316, -1188335.8860551 ]),\n",
       " array([700461.93302992, 802338.92532322, 704343.79299177, 704159.42803241,\n",
       "        729241.30021246, 702741.30093862, 701815.80867844, 785162.04318144,\n",
       "        703506.06784671]))"
      ]
     },
     "execution_count": 95,
     "metadata": {},
     "output_type": "execute_result"
    }
   ],
   "source": [
    "\n",
    "\n",
    "tem = Time(t.utc_strftime('%Y-%m-%dT%H:%M:%S'), format='isot')\n",
    "\n",
    "ini = time.time()\n",
    "\n",
    "error_code, teme_p, teme_v = satellite.sgp4_array(tem.jd1, tem.jd2)\n",
    "\n",
    "teme_p = np.array(teme_p)\n",
    "x, y, z = teme_p[:,0], teme_p[:,1], teme_p[:,2]\n",
    "\n",
    "teme_p = CartesianRepresentation(x*u.km, y*u.km, z*u.km)\n",
    "teme = TEME(teme_p, obstime=tem)  # ver diferença entre UT1 e UTC\n",
    "itrsp = teme.transform_to(ITRS(obstime=tem))\n",
    "location = itrsp.earth_location\n",
    "enu_p = pm.ecef2enu(1000 * location.x.value, 1000 * location.y.value, 1000 * location.z.value, lc.lat,\n",
    "                            lc.lon, lc.height)\n",
    "\n",
    "fim = time.time()\n",
    "print(\"Tempo: \", fim - ini)\n",
    "\n",
    "enu_p"
   ]
  }
 ],
 "metadata": {
  "kernelspec": {
   "display_name": "Python 3.10.4 ('orbit2prop')",
   "language": "python",
   "name": "python3"
  },
  "language_info": {
   "codemirror_mode": {
    "name": "ipython",
    "version": 3
   },
   "file_extension": ".py",
   "mimetype": "text/x-python",
   "name": "python",
   "nbconvert_exporter": "python",
   "pygments_lexer": "ipython3",
   "version": "3.10.4"
  },
  "orig_nbformat": 4,
  "vscode": {
   "interpreter": {
    "hash": "75a7af300593d40e5d074f5f77fc2893c8f5e02fd067d75ecfc4bf17b094a659"
   }
  }
 },
 "nbformat": 4,
 "nbformat_minor": 2
}
